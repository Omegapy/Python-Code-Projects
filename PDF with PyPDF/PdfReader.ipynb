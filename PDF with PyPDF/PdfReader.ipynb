{
 "cells": [
  {
   "cell_type": "markdown",
   "source": [
    "# PyPDF PdfReader Class\n",
    "\n",
    "Alejandro Ricciardi (Omegapy)  \n",
    "created date: 01/10/2024   \n",
    "[GitHub](https://github.com/Omegapy)  \n",
    "\n",
    "Credit: \n",
    "[Control PDF with Python & PyPDF2](https://www.udemy.com/course/control-pdf-with-python-pypdf2) Udemy - Conny Soderholm\n",
    "The original code was substantially modified to meet my requirements and to add functionally to the program."
   ],
   "metadata": {
    "collapsed": false
   },
   "id": "dd07677c7678e40e"
  },
  {
   "cell_type": "markdown",
   "source": [
    "Projects Description:  \n",
    "Using the PyPDF [PdfReader](https://pypdf.readthedocs.io/en/stable/modules/PdfReader.html?highlight=PdfReader) class to read from a PDf file.  \n",
    "\n",
    "Class:\n",
    "```\n",
    "class pypdf.PdfReader(stream: Union[str, IO[Any], Path], strict: bool = False, password: Union[None, str, bytes] = None)\n",
    "```\n",
    "\n",
    "Parameters\n",
    "- stream – A File object or an object that supports the standard read and seek methods similar to a File object. Could also be a string representing a path to a PDF file.\n",
    "\n",
    "- strict – Determines whether the user should be warned of all problems and also causes some correctable problems to be fatal. Defaults to False.\n",
    "\n",
    "- password – Decrypt PDF file at initialization. If the password is None, the file will not be decrypted. Defaults to None"
   ],
   "metadata": {
    "collapsed": false
   },
   "id": "e437ab9098ead925"
  },
  {
   "cell_type": "markdown",
   "source": [
    "Project map:\n",
    "- Load and Read a PDF \n",
    "    - First method -``` with open(file_name, \"rb\") as pdf_file: ```-\n",
    "    - Second method -```pdf_reader = PdfReader(\"docs/WorkStation.pdf\")```-\n",
    "- PDF files Metadata -```doc_info = pdf_reader.metadata```\n",
    "    - Metadata (unscripted) \n",
    "    - Encrypted Metadata\n",
    "- Fix for encrypted Metadata -```writer = PdfWriter().append_pages_from_reader(pdf_reader)```-\n",
    "- PDF Fields -```fields = pdf_reader.get_fields()```-\n",
    "- Page Document Layout -```pdf_reader.page_layout```\n",
    "- Page Mode (Document outline) -```pdf_reader.page_mode```-\n",
    "- XPM Metadata -```xmp = pdf_reader.xmp_metadata```-\n",
    "- Get Text From Page - full page and lines -```xmp = pdf_reader.xmp_metadata``` and  -```for number, line in enumerate(full_page_text.splitlines()): ```-\n"
   ],
   "metadata": {
    "collapsed": false
   },
   "id": "dfb1a1d4ebdb159c"
  },
  {
   "cell_type": "code",
   "outputs": [],
   "source": [
    "from pypdf import PdfReader "
   ],
   "metadata": {
    "collapsed": false,
    "ExecuteTime": {
     "end_time": "2024-01-11T16:30:28.015318900Z",
     "start_time": "2024-01-11T16:30:28.013127100Z"
    }
   },
   "id": "80691e1c66aa7b3a",
   "execution_count": 29
  },
  {
   "cell_type": "markdown",
   "source": [
    "### Load and Read a PDF\n",
    "\n",
    "First method:"
   ],
   "metadata": {
    "collapsed": false
   },
   "id": "d3e79a80c571a782"
  },
  {
   "cell_type": "code",
   "outputs": [
    {
     "name": "stdout",
     "output_type": "stream",
     "text": [
      "The umber of page in the PDF file is: 1\n",
      "\n",
      "<pypdf._reader.PdfReader object at 0x000002E6D609FCE0>\n"
     ]
    }
   ],
   "source": [
    "file_name = \"docs/WorkStation.pdf\"\n",
    "\n",
    "# Load the pdf to the PdfFileReader object\n",
    "with open(file_name, \"rb\") as pdf_file: # the with() command automatically file the file, 'rb' opens/reads it in binary mode\n",
    "    pdf_reader= PdfReader(pdf_file) # PdfReader object\n",
    "    print(f\"The umber of page in the PDF file is: {len(pdf_reader.pages)}\\n\") # Number of pages\n",
    "    print(pdf_reader)\n",
    "# file close"
   ],
   "metadata": {
    "collapsed": false,
    "ExecuteTime": {
     "end_time": "2024-01-11T16:30:28.070996800Z",
     "start_time": "2024-01-11T16:30:28.015318900Z"
    }
   },
   "id": "c22afda396b8a932",
   "execution_count": 30
  },
  {
   "cell_type": "markdown",
   "source": [
    "Second Method: It is commanded when using PyPDF"
   ],
   "metadata": {
    "collapsed": false
   },
   "id": "32b9441d2636821b"
  },
  {
   "cell_type": "code",
   "outputs": [
    {
     "name": "stdout",
     "output_type": "stream",
     "text": [
      "The umber of page in the PDF file is: 1\n"
     ]
    }
   ],
   "source": [
    "pdf_reader = PdfReader(\"docs/WorkStation.pdf\") # PdfReader object\n",
    "print(f\"The umber of page in the PDF file is: {len(pdf_reader.pages)}\\n\") # Number of pages"
   ],
   "metadata": {
    "collapsed": false,
    "ExecuteTime": {
     "end_time": "2024-01-11T16:30:28.070996800Z",
     "start_time": "2024-01-11T16:30:28.023454200Z"
    }
   },
   "id": "157df7e63eca1d3f",
   "execution_count": 31
  },
  {
   "cell_type": "markdown",
   "source": [
    "### PDF files Metadata"
   ],
   "metadata": {
    "collapsed": false
   },
   "id": "f85591d1d4714588"
  },
  {
   "cell_type": "markdown",
   "source": [
    "##### Metadata (unscripted) "
   ],
   "metadata": {
    "collapsed": false
   },
   "id": "b5260ba164638868"
  },
  {
   "cell_type": "code",
   "outputs": [
    {
     "name": "stdout",
     "output_type": "stream",
     "text": [
      "<class 'pypdf._reader.DocumentInformation'>\n",
      "/Author Alex Ricciardi\n",
      "/Creator Microsoft® Word for Microsoft 365\n",
      "/CreationDate D:20240110104403-07'00'\n",
      "/ModDate D:20240110104403-07'00'\n",
      "/Producer Microsoft® Word for Microsoft 365\n"
     ]
    }
   ],
   "source": [
    "pdf_reader = PdfReader(\"docs/WorkStation.pdf\")\n",
    "\n",
    "doc_info = pdf_reader.metadata\n",
    "print(type(doc_info))\n",
    "\n",
    "for info in doc_info:\n",
    "    print(info, doc_info[info])"
   ],
   "metadata": {
    "collapsed": false,
    "ExecuteTime": {
     "end_time": "2024-01-11T16:30:28.072990300Z",
     "start_time": "2024-01-11T16:30:28.030510700Z"
    }
   },
   "id": "16ce877e56003af8",
   "execution_count": 32
  },
  {
   "cell_type": "markdown",
   "source": [
    "##### Encrypted Metadata\n",
    "\n",
    "More complex PDf file may require installation of dependencies to read the metadata\n",
    "\n",
    "For example the following Kyocera User Guide requires [cryptography=>3.1](https://pypi.org/project/cryptography/3.1/)\n",
    "The data is encrypted :("
   ],
   "metadata": {
    "collapsed": false
   },
   "id": "3b2e68c27f4ea372"
  },
  {
   "cell_type": "code",
   "outputs": [
    {
     "name": "stdout",
     "output_type": "stream",
     "text": [
      "Installing cryptography...\n",
      "Resolving cryptography...\n",
      "[    ] Installing...\n",
      "Installation Succeeded\n",
      "[    ] Installing cryptography...\n",
      "[    ] Installing cryptography...\n",
      "\n",
      "Installing dependencies from Pipfile.lock (5657a6)...\n",
      "To activate this project's virtualenv, run pipenv shell.\n",
      "Alternatively, run a command inside the virtualenv with pipenv run.\n"
     ]
    },
    {
     "name": "stderr",
     "output_type": "stream",
     "text": [
      "Courtesy Notice: Pipenv found itself running within a virtual environment, so it will automatically use that environment, instead of creating its own for any project. You can set PIPENV_IGNORE_VIRTUALENVS=1 to force pipenv to ignore that environment and create its own instead. You can set PIPENV_VERBOSITY=-1 to suppress this warning.\n"
     ]
    }
   ],
   "source": [
    "!pipenv install cryptography"
   ],
   "metadata": {
    "collapsed": false,
    "ExecuteTime": {
     "end_time": "2024-01-11T16:30:28.832213100Z",
     "start_time": "2024-01-11T16:30:28.036971400Z"
    }
   },
   "id": "7286295faaad1247",
   "execution_count": 33
  },
  {
   "cell_type": "code",
   "outputs": [
    {
     "name": "stdout",
     "output_type": "stream",
     "text": [
      "/CreationDate D:20231116104630+09'00'\n",
      "/ModDate D:20231116104630+09'00'\n"
     ]
    }
   ],
   "source": [
    "pdf_reader = PdfReader(\"docs/2554ci Operation Guide.pdf\")\n",
    "\n",
    "doc_info = pdf_reader.metadata\n",
    "\n",
    "for info in doc_info:\n",
    "    print(info, doc_info[info])"
   ],
   "metadata": {
    "collapsed": false,
    "ExecuteTime": {
     "end_time": "2024-01-11T16:30:28.874775500Z",
     "start_time": "2024-01-11T16:30:28.832213100Z"
    }
   },
   "id": "a1cfaf4b56c75049",
   "execution_count": 34
  },
  {
   "cell_type": "markdown",
   "source": [
    "### Fix for encrypted Metadata\n",
    "It is not a real fix to the retrieve encrypted Medata without proper authorization or decryption keys.\n",
    "Nonetheless, pdf files can be rewrited without the original encrypted Metadata and new Metadata can be assigned to it."
   ],
   "metadata": {
    "collapsed": false
   },
   "id": "8f84806b245ca47f"
  },
  {
   "cell_type": "code",
   "outputs": [],
   "source": [
    "from pypdf import  PdfWriter\n",
    "\n",
    "pdf_reader = PdfReader(\"docs/2554ci Operation Guide.pdf\")\n",
    "\n",
    "writer = PdfWriter() # writer object\n",
    "# Add all pages to the writer\n",
    "# pdf_reader.pages returns a dictionary\n",
    "for page in pdf_reader.pages:\n",
    "     writer.add_page(page)\n",
    "\n",
    "#--- Better\n",
    "# Add all pages\n",
    "writer = PdfWriter()\n",
    "writer.append_pages_from_reader(pdf_reader)\n",
    "\n",
    "from datetime import datetime\n",
    "# Format the current date and time for the metadata\n",
    "utc_time = \"-05'00'\"  # UTC time optional\n",
    "time = datetime.now().strftime(f\"D\\072%Y%m%d%H%M%S{utc_time}\")\n",
    "\n",
    "# Add the new metadata\n",
    "writer.add_metadata(\n",
    "    {\n",
    "        \"/Author\": \"Kyocera\",\n",
    "        \"/Title\": \"2554ci User Guide\",\n",
    "        \"/ModDate\": time\n",
    "    }\n",
    ")\n",
    "\n",
    "# Save the new PDF to disk\n",
    "with open(\"Mod_Meta Docs/Mod_Meta-2554ci Operation Guide.pdf\", \"wb\") as f:\n",
    "    writer.write(f)"
   ],
   "metadata": {
    "collapsed": false,
    "ExecuteTime": {
     "end_time": "2024-01-11T16:30:30.655810200Z",
     "start_time": "2024-01-11T16:30:28.861818600Z"
    }
   },
   "id": "a947187243e75fd3",
   "execution_count": 35
  },
  {
   "cell_type": "markdown",
   "source": [
    "### PDF Fields\n",
    "PDF fields are fields that can be filled out by the user like in an application.\n",
    "\n"
   ],
   "metadata": {
    "collapsed": false
   },
   "id": "5231bc8c5b35d9dc"
  },
  {
   "cell_type": "code",
   "outputs": [
    {
     "name": "stdout",
     "output_type": "stream",
     "text": [
      "/Tx 020 Conny Söderholm\n",
      "/Tx 477 None\n",
      "/Btn 476 None\n",
      "/Btn 479 None\n",
      "/Btn 478 None\n",
      "/Tx 488 None\n",
      "/Tx s488 None\n",
      "/Tx 489 None\n",
      "/Tx s489 None\n",
      "/Tx 562 None\n",
      "/Tx s562 None\n",
      "/Tx 563 None\n",
      "/Tx s563 None\n",
      "/Tx 564 None\n",
      "/Tx s564 None\n",
      "/Tx 565 None\n",
      "/Tx s565 None\n",
      "/Tx 566 None\n",
      "/Tx s566 None\n",
      "/Tx 567 None\n",
      "/Tx s567 None\n",
      "/Tx 568 None\n",
      "/Tx s568 None\n",
      "/Tx 569 None\n",
      "/Tx s569 None\n",
      "/Btn 481 None\n",
      "/Btn 572 None\n",
      "/Btn 573 None\n",
      "/Tx 482 None\n",
      "/Tx s482 None\n",
      "/Tx 483 None\n",
      "/Tx s483 None\n",
      "/Tx 484 None\n",
      "/Tx s484 None\n",
      "/Tx 574 None\n",
      "/Tx 575 None\n",
      "/Tx s575 None\n",
      "/Tx 576 None\n",
      "/Tx s576 None\n",
      "/Tx s574 None\n",
      "/Tx 010 None\n",
      "/Tx 053 None\n",
      "/Tx 580;1 None\n",
      "/Tx 581;1 None\n",
      "/Tx 582;1 None\n",
      "/Tx 583;1 None\n",
      "/Tx 584;1 None\n",
      "/Tx s584;1 None\n",
      "/Tx 585;1 None\n",
      "/Tx s585;1 None\n",
      "/Tx 586;1 None\n",
      "/Tx s586;1 None\n",
      "/Tx 580;2 None\n",
      "/Tx 581;2 None\n",
      "/Tx 582;2 None\n",
      "/Tx 583;2 None\n",
      "/Tx 584;2 None\n",
      "/Tx s584;2 None\n",
      "/Tx 585;2 None\n",
      "/Tx s585;2 None\n",
      "/Tx 586;2 None\n",
      "/Tx s586;2 None\n",
      "/Tx 587;1 None\n",
      "/Tx 588;1 None\n",
      "/Tx 589;1 None\n",
      "/Tx 590;1 None\n",
      "/Tx 591;1 None\n",
      "/Tx s591;1 None\n",
      "/Tx 592;1 None\n",
      "/Tx s592;1 None\n",
      "/Tx 593;1 None\n",
      "/Tx s593;1 None\n",
      "/Tx 587;2 None\n",
      "/Tx 588;2 None\n",
      "/Tx 589;2 None\n",
      "/Tx 590;2 None\n",
      "/Tx 591;2 None\n",
      "/Tx s591;2 None\n",
      "/Tx 592;2 None\n",
      "/Tx s592;2 None\n",
      "/Tx 593;2 None\n",
      "/Tx s593;2 None\n",
      "/Tx 587;3 None\n",
      "/Tx 588;3 None\n",
      "/Tx 589;3 None\n",
      "/Tx 590;3 None\n",
      "/Tx 591;3 None\n",
      "/Tx s591;3 None\n",
      "/Tx 592;3 None\n",
      "/Tx s592;3 None\n",
      "/Tx 593;3 None\n",
      "/Tx s593;3 None\n",
      "/Tx 587;4 None\n",
      "/Tx 588;4 None\n",
      "/Tx 589;4 None\n",
      "/Tx 590;4 None\n",
      "/Tx 591;4 None\n",
      "/Tx s591;4 None\n",
      "/Tx 592;4 None\n",
      "/Tx s592;4 None\n",
      "/Tx 593;4 None\n",
      "/Tx s593;4 None\n",
      "/Tx 587;5 None\n",
      "/Tx 588;5 None\n",
      "/Tx 589;5 None\n",
      "/Tx 590;5 None\n",
      "/Tx 591;5 None\n",
      "/Tx s591;5 None\n",
      "/Tx 592;5 None\n",
      "/Tx s592;5 None\n",
      "/Tx 593;5 None\n",
      "/Tx s593;5 None\n",
      "/Tx 587;6 None\n",
      "/Tx 588;6 None\n",
      "/Tx 589;6 None\n",
      "/Tx 590;6 None\n",
      "/Tx 591;6 None\n",
      "/Tx s591;6 None\n",
      "/Tx 592;6 None\n",
      "/Tx s592;6 None\n",
      "/Tx 593;6 None\n",
      "/Tx s593;6 None\n",
      "/Tx 594 None\n",
      "/Tx s594 None\n",
      "/Tx 595 None\n",
      "/Tx s595 None\n",
      "/Tx 596 None\n",
      "/Tx s596 None\n",
      "/Tx 597 None\n",
      "/Tx s597 None\n",
      "/Tx 598 None\n",
      "/Tx s598 None\n",
      "/Tx 599 None\n",
      "/Tx s599 None\n",
      "/Tx 890 None\n",
      "/Tx s890 None\n",
      "/Tx 891 None\n",
      "/Tx s891 None\n",
      "/Tx 892 None\n",
      "/Tx s892 None\n",
      "/Tx 893 None\n",
      "/Tx s893 None\n",
      "/Tx 894 None\n",
      "/Tx s894 None\n",
      "/Tx 895 None\n",
      "/Tx s895 None\n",
      "/Tx 896 None\n",
      "/Tx s896 None\n",
      "/Tx 897 None\n",
      "/Tx s897 None\n",
      "/Tx 898 None\n",
      "/Tx s898 None\n",
      "/Tx 978 None\n",
      "/Tx s978 None\n",
      "/Tx 979 None\n",
      "/Tx s979 None\n",
      "/Tx 980 None\n",
      "/Tx s980 None\n",
      "/Tx 981 None\n",
      "/Tx s981 None\n",
      "/Tx 982 None\n",
      "/Tx s982 None\n",
      "/Tx 983 None\n",
      "/Tx s983 None\n",
      "/Tx 200 None\n",
      "/Tx s200 None\n",
      "/Tx 201 None\n",
      "/Tx s201 None\n",
      "/Tx 202 None\n",
      "/Tx s202 None\n",
      "/Tx 203 None\n",
      "/Tx s203 None\n",
      "/Tx 204 None\n",
      "/Tx s204 None\n",
      "/Tx 205 None\n",
      "/Tx s205 None\n",
      "/Tx 206 None\n",
      "/Tx s206 None\n",
      "/Tx 207 None\n",
      "/Tx s207 None\n",
      "/Tx 208 None\n",
      "/Tx s208 None\n",
      "/Tx 209 None\n",
      "/Tx s209 None\n",
      "/Tx 210 None\n",
      "/Tx s210 None\n",
      "/Tx 211 None\n",
      "/Tx s211 None\n",
      "/Tx 212 None\n",
      "/Tx s212 None\n",
      "/Tx 213 None\n",
      "/Tx s213 None\n",
      "/Tx 214 None\n",
      "/Tx s214 None\n",
      "/Tx 215 None\n",
      "/Tx s215 None\n",
      "/Tx 216 None\n",
      "/Tx s216 None\n",
      "/Tx 217 None\n",
      "/Tx s217 None\n",
      "/Tx 218 None\n",
      "/Tx s218 None\n",
      "/Tx 219 None\n",
      "/Tx s219 None\n",
      "/Tx 220 None\n",
      "/Tx s220 None\n",
      "/Tx 224 None\n",
      "/Tx s224 None\n",
      "/Tx 225 None\n",
      "/Tx s225 None\n",
      "/Tx 226 None\n",
      "/Tx s226 None\n",
      "/Tx 227 None\n",
      "/Tx s227 None\n",
      "/Tx 228 None\n",
      "/Tx s228 None\n",
      "/Tx 229 None\n",
      "/Tx s229 None\n",
      "/Tx 230 None\n",
      "/Tx s230 None\n",
      "/Tx 231 None\n",
      "/Tx s231 None\n",
      "/Tx 232 None\n",
      "/Tx s232 None\n",
      "/Tx 233 None\n",
      "/Tx s233 None\n",
      "/Tx 234 None\n",
      "/Tx s234 None\n",
      "/Tx 235 None\n",
      "/Tx s235 None\n",
      "/Tx 236 None\n",
      "/Tx s236 None\n",
      "/Tx 237 None\n",
      "/Tx s237 None\n",
      "/Tx 238 None\n",
      "/Tx s238 None\n",
      "/Tx 239 None\n",
      "/Tx s239 None\n",
      "/Tx 240 None\n",
      "/Tx s240 None\n",
      "/Tx 241 None\n",
      "/Tx 10 Osakeyhtiön nimi None\n",
      "/Tx 242 None\n",
      "/Tx 243 None\n",
      "/Tx s243 None\n",
      "/Tx 244 None\n",
      "/Tx 245 None\n",
      "/Tx s245 None\n",
      "/Tx 246;1 None\n",
      "/Tx 246;2 None\n",
      "/Tx 246;3 None\n",
      "/Tx 246;4 None\n",
      "/Tx 247 None\n",
      "/Tx 248 None\n",
      "/Tx 249 None\n",
      "/Tx s249 None\n",
      "/Tx 250 None\n",
      "/Tx s250 None\n",
      "/Tx 251 None\n",
      "/Tx s251 None\n",
      "/Btn 252 None\n",
      "/Tx 253 None\n",
      "/Tx s253 None\n",
      "/Tx 254 None\n",
      "/Tx s254 None\n",
      "/Btn 255 None\n",
      "/Tx 256 None\n",
      "/Tx s256 None\n",
      "/Tx 257 None\n",
      "/Tx s257 None\n",
      "/Tx 259 None\n",
      "/Tx s259 None\n",
      "/Tx 260 None\n",
      "/Tx s260 None\n",
      "/Tx 261 None\n",
      "/Tx s261 None\n",
      "/Tx 262 None\n",
      "/Tx s262 None\n",
      "/Tx 263 None\n",
      "/Tx s263 None\n",
      "/Tx 264 None\n",
      "/Tx s264 None\n",
      "/Tx 265 None\n",
      "/Tx s265 None\n",
      "/Tx 266 None\n",
      "/Tx s266 None\n",
      "/Tx 267 None\n",
      "/Tx s267 None\n",
      "/Tx 268 None\n",
      "/Tx 269 None\n",
      "/Tx 270 None\n",
      "/Tx 271 None\n",
      "/Tx 272 None\n",
      "/Tx s272 None\n",
      "/Tx 273 None\n",
      "/Tx s273 None\n",
      "/Tx 274 None\n",
      "/Tx s274 None\n",
      "/Tx 275 None\n",
      "/Tx s275 None\n",
      "/Tx 276 None\n",
      "/Tx s276 None\n",
      "/Tx Selvitys toiminnasta ja sen kausiluonteisuudesta None\n",
      "/Tx 278 None\n",
      "/Tx s278 None\n",
      "/Tx 279 None\n",
      "/Tx s279 None\n",
      "/Tx 280 None\n",
      "/Tx s280 None\n",
      "/Tx 281 None\n",
      "/Tx 282 None\n",
      "/Tx s282 None\n",
      "/Tx 283 None\n",
      "/Btn 289 None\n",
      "/Btn 290 None\n",
      "/Btn 291 None\n",
      "/Btn 292 None\n",
      "/Tx 17 Puhelinnumero virkaaikana None\n",
      "/Btn 284 None\n",
      "/Btn 285 None\n",
      "/Btn 286 None\n",
      "/Btn 287 None\n",
      "/Btn 288 None\n",
      "/Btn 18_2 None\n",
      "/Btn 18_3 None\n",
      "/Btn 18_4 None\n",
      "/Btn 18_5 None\n",
      "/Btn 18_6 None\n",
      "/Btn 18_7 None\n",
      "/Btn 18_8 None\n",
      "/Btn 18_9 None\n",
      "/Btn 18_1 None\n",
      "/Btn 18_10 None\n",
      "/Btn 18_11 None\n",
      "/Btn 18_12 None\n",
      "/Btn 18_13 None\n",
      "/Tx Päiväys None\n",
      "/Tx Allekirjoitus None\n",
      "/Tx Puhelinnumero None\n",
      "/Btn Tyhjennä None\n",
      "/Btn Sivulle 1 None\n",
      "/Btn Tulosta None\n",
      "/Btn 293 None\n",
      "/Tx 277_1 None\n",
      "/Tx 277_2 None\n",
      "/Btn 480 None\n",
      "/Btn 474 None\n",
      "/Tx 485 None\n",
      "/Tx s485 None\n",
      "/Tx 486 None\n",
      "/Tx s486 None\n",
      "/Tx 487 None\n",
      "/Tx s487 None\n",
      "/Tx 450 None\n",
      "/Tx s450 None\n",
      "/Tx 451 None\n",
      "/Tx s451 None\n",
      "/Tx 452 None\n",
      "/Tx s452 None\n",
      "/Btn 475 None\n",
      "/Tx 199 None\n",
      "/Tx s199 None\n",
      "/Tx 17 Lisätietoja antaa None\n",
      "/Tx 287_1 None\n",
      "/Tx 221 None\n",
      "/Tx s221 None\n",
      "/Tx 221_1 None\n",
      "/Tx s221_1 None\n",
      "/Tx 258 None\n",
      "/Tx s258 None\n",
      "/Tx 258_1 None\n",
      "/Tx s258_1 None\n",
      "/Tx 258_2 None\n",
      "/Tx s258_2 None\n"
     ]
    }
   ],
   "source": [
    "pdf_reader = PdfReader(\"docs/docs_pdf/Section 3 Reading PDFs/APPLICATION FOR TAX CARD.pdf\") # Reader object\n",
    "# Fields\n",
    "# get_fields() returns a dictionary\n",
    "fields = pdf_reader.get_fields()\n",
    "\n",
    "for field in fields:\n",
    "    \n",
    "    field_type = fields[field].field_type\n",
    "    \n",
    "    name = fields[field].name\n",
    "    value = fields[field].value\n",
    "    \n",
    "    print(field_type, name,  value)\n",
    "\n",
    "# /Bt is a button field, button click on shows an 'X'\n",
    "# /Tx is  field, 'None' means not prefilled \n"
   ],
   "metadata": {
    "collapsed": false,
    "ExecuteTime": {
     "end_time": "2024-01-11T16:30:30.751298600Z",
     "start_time": "2024-01-11T16:30:30.655810200Z"
    }
   },
   "id": "ca6f76f69bfdea7d",
   "execution_count": 36
  },
  {
   "cell_type": "markdown",
   "source": [
    "### Page Document Layout\n",
    "\n",
    "Page layout currently being used.\n",
    "Variable: str, None if not specified\n",
    "\n",
    "Valid layouts are:\n",
    "- /NoLayout \n",
    "$\\;\\;\\;$ Layout explicitly not specified</br> \n",
    "- /SinglePage \n",
    "$\\;\\;\\;$ Show one page at a time\n",
    "- /OneColumn \n",
    "$\\;\\;\\;$ Show one column at a \n",
    "- /TwoColumnLeft\n",
    "$\\;\\;\\;$ Show pages in two columns, odd-numbered pages on the left\n",
    "- /TwoColumnRight \n",
    "$\\;\\;\\;$ Show pages in two columns, odd-numbered pages on the right\n",
    "- /TwoPageLeft\n",
    "$\\;\\;\\;$ Show two pages at a time, odd-numbered pages on the left\n",
    "- /TwoPageRight\n",
    "$\\;\\;\\;$ Show two pages at a time, odd-numbered pages on the right\n"
   ],
   "metadata": {
    "collapsed": false
   },
   "id": "3ef0b62814387f8a"
  },
  {
   "cell_type": "code",
   "outputs": [
    {
     "name": "stdout",
     "output_type": "stream",
     "text": [
      "None\n"
     ]
    }
   ],
   "source": [
    "pdf_reader = PdfReader(\"docs/docs_pdf/Section 3 Reading PDFs/p17 UseThumbs.pdf\") # Reader \n",
    "\n",
    "page_layout = pdf_reader.page_layout\n",
    "\n",
    "print(page_layout)"
   ],
   "metadata": {
    "collapsed": false,
    "ExecuteTime": {
     "end_time": "2024-01-11T16:30:30.764122800Z",
     "start_time": "2024-01-11T16:30:30.751298600Z"
    }
   },
   "id": "1aa612de8e0f0146",
   "execution_count": 37
  },
  {
   "cell_type": "markdown",
   "source": [
    "### Page Mode (Document outline)\n",
    "\n",
    "Page mode currently being used.\n",
    "Variable: str, None if not specified\n",
    "\n",
    "Valid layouts are:\n",
    "- /UseNone          \n",
    "$\\;\\;\\;$ Do not show outlines or thumbnails panels\n",
    "- /UseOutlines      \n",
    "$\\;\\;\\;$ Show outlines (aka bookmarks) panel\n",
    "- /UseThumbs        \n",
    "$\\;\\;\\;$ Show page thumbnails panel\n",
    "- /FullScreen       \n",
    "$\\;\\;\\;$ Fullscreen view\n",
    "- /UseOC            \n",
    "$\\;\\;\\;$ Show Optional Content Group (OCG) panel\n",
    "- /UseAttachments   \n",
    "$\\;\\;\\;$ Show attachments panel"
   ],
   "metadata": {
    "collapsed": false
   },
   "id": "1d254bc2c89c6aa7"
  },
  {
   "cell_type": "code",
   "outputs": [
    {
     "name": "stdout",
     "output_type": "stream",
     "text": [
      "/UseOutlines\n"
     ]
    }
   ],
   "source": [
    "pdf_reader = PdfReader(\"docs/docs_pdf/Section 3 Reading PDFs/p17.pdf\") \n",
    "\n",
    "page_mode = pdf_reader.page_mode\n",
    "\n",
    "print(page_mode)"
   ],
   "metadata": {
    "collapsed": false,
    "ExecuteTime": {
     "end_time": "2024-01-11T16:30:30.878753200Z",
     "start_time": "2024-01-11T16:30:30.761133200Z"
    }
   },
   "id": "2ca5c93c63194fb4",
   "execution_count": 38
  },
  {
   "cell_type": "markdown",
   "source": [
    "### XPM Metadata\n",
    "\n",
    "[Adobe’s Extensible Metadata Platform (XMP)](https://www.adobe.com/products/xmp.html) is a file labeling technology that lets you embed metadata into files themselves during the content creation process. With an XMP enabled application, your workgroup can capture meaningful information about a project (such as titles and descriptions, searchable keywords, and up-to-date author and copyright information) in a format that is easily understood by your team as well as by software applications, hardware devices, and even file formats. Best of all, as team members modify files and assets, they can edit and update the metadata in real time during the workflow.\n",
    " "
   ],
   "metadata": {
    "collapsed": false
   },
   "id": "e082152f418dd7d2"
  },
  {
   "cell_type": "code",
   "outputs": [
    {
     "name": "stdout",
     "output_type": "stream",
     "text": [
      "Creator ['Tax Administration']\n",
      "Creator tool PScript5.dll Version 5.2.2\n",
      "Title {'x-default': 'Application for tax card and/or tax prepayment'}\n",
      "Producer Acrobat Distiller 10.1.15 (Windows)\n"
     ]
    }
   ],
   "source": [
    "pdf_reader = PdfReader(\"docs/docs_pdf/Section 3 Reading PDFs/APPLICATION FOR TAX CARD.pdf\")\n",
    "try:\n",
    "    xmp = pdf_reader.xmp_metadata\n",
    "    print(\"Creator\", xmp.dc_creator)\n",
    "    print(\"Creator tool\", xmp.xmp_creator_tool)\n",
    "    print(\"Title\", xmp.dc_title)\n",
    "    print(\"Producer\", xmp.pdf_producer)\n",
    "except AttributeError:\n",
    "    print(\"The document has no xmp metadata\")"
   ],
   "metadata": {
    "collapsed": false,
    "ExecuteTime": {
     "end_time": "2024-01-11T16:30:30.878753200Z",
     "start_time": "2024-01-11T16:30:30.869381Z"
    }
   },
   "id": "13c65a3f896538da",
   "execution_count": 39
  },
  {
   "cell_type": "markdown",
   "source": [
    "### Get Documents Pages\n",
    "Retrieves a page by number from a PDF file.\n",
    "\n",
    "The pages are indexed: first page is index ```[0]``` the last page is index ```[len(pdf_reader.pages)- 1]```"
   ],
   "metadata": {
    "collapsed": false
   },
   "id": "9a8de5c7784a0984"
  },
  {
   "cell_type": "code",
   "outputs": [
    {
     "name": "stdout",
     "output_type": "stream",
     "text": [
      "{'/Annots': [IndirectObject(15827, 0, 3190219505200),\n",
      "             IndirectObject(15835, 0, 3190219505200),\n",
      "             IndirectObject(15846, 0, 3190219505200),\n",
      "             IndirectObject(15854, 0, 3190219505200),\n",
      "             IndirectObject(15865, 0, 3190219505200),\n",
      "             IndirectObject(15873, 0, 3190219505200)],\n",
      " '/BleedBox': [0, 0, 612, 1008],\n",
      " '/Contents': [IndirectObject(114474, 0, 3190219505200)],\n",
      " '/CropBox': [0, 0, 612, 792],\n",
      " '/Group': {'/CS': '/DeviceRGB', '/S': '/Transparency', '/Type': '/Group'},\n",
      " '/MediaBox': [0, 0, 612, 792],\n",
      " '/Parent': IndirectObject(8, 0, 3190219505200),\n",
      " '/Resources': {'/Font': {'/F0': IndirectObject(4, 0, 3190219505200),\n",
      "                          '/F1': IndirectObject(5, 0, 3190219505200),\n",
      "                          '/F2': IndirectObject(6, 0, 3190219505200),\n",
      "                          '/F3': IndirectObject(18, 0, 3190219505200),\n",
      "                          '/F4': IndirectObject(114475, 0, 3190219505200),\n",
      "                          '/F5': IndirectObject(35, 0, 3190219505200)},\n",
      "                '/ProcSet': ['/PDF', '/Text', '/ImageC'],\n",
      "                '/XObject': {'/I1': IndirectObject(7, 0, 3190219505200),\n",
      "                             '/I2': IndirectObject(114476, 0, 3190219505200)}},\n",
      " '/Rotate': 0,\n",
      " '/StructParents': 0,\n",
      " '/Tabs': '/S',\n",
      " '/Type': '/Page'}\n"
     ]
    }
   ],
   "source": [
    "# PrettyPrinter \n",
    "import pprint # https://docs.python.org/3/library/pprint.html\n",
    "\n",
    "pdf_reader = PdfReader(\"docs/docs_pdf/Section 3 Reading PDFs/p17.pdf\")\n",
    "# Get the first page\n",
    "page1 = pdf_reader.pages[0]\n",
    "# Get the second page\n",
    "page2 = pdf_reader.pages[1]\n",
    "# Get last page\n",
    "last_page = pdf_reader.pages [len(pdf_reader.pages)- 1]\n",
    "# Print last page using PPrint\n",
    "pprint.pprint(page1)"
   ],
   "metadata": {
    "collapsed": false,
    "ExecuteTime": {
     "end_time": "2024-01-11T16:30:31.061114500Z",
     "start_time": "2024-01-11T16:30:30.874767100Z"
    }
   },
   "id": "be72b02520d0f352",
   "execution_count": 40
  },
  {
   "cell_type": "markdown",
   "source": [
    "### Get Text From Page - full page and lines\n",
    "\n",
    "Retrieving a single pdf page text.\n",
    "\n",
    "Using ```enumerate(full_page_text.splitlines())``` to extract lines\n"
   ],
   "metadata": {
    "collapsed": false
   },
   "id": "b5b760034ece323a"
  },
  {
   "cell_type": "code",
   "outputs": [
    {
     "name": "stdout",
     "output_type": "stream",
     "text": [
      "<class 'str'>\n",
      "Line Num.:  0 vLoading Originals in the Docu ment Processor ..........................................................  5-3\n",
      "Line Num.:  1 Loading Paper in the Mu ltipurpose Tray .........................................................................  5-6\n",
      "Line Num.:  2 Favorites ..................................................................................................................... .....  5-11\n",
      "Line Num.:  3 Registering Favorites ..............................................................................................  5-12\n",
      "Line Num.:  4 Recalling Favorites .................. ................................................................................  5-12\n",
      "Line Num.:  5 Editing Favorites .....................................................................................................  5-13Deleting Favorites ............... ....................................................................................  5-13\n",
      "Line Num.:  6 Application ................................................................................................................... ....  5-14\n",
      "Line Num.:  7 Installing Applications ..............................................................................................  5-14Activating Applications ............................................................................................  5-15Deactivating Applications ........................................................................................  5-16Uninstalling Applications .........................................................................................  5-16\n",
      "Line Num.:  8 Registering Shortcuts (Copy, Send, and Document Box Settings) ..... .............................................................  5-17\n",
      "Line Num.:  9 Adding Shortcuts .....................................................................................................  5-17Editing Shortcuts .....................................................................................................  5-18Deleting Shortcuts ...................................................................................................  5-18\n",
      "Line Num.:  10 Copying ....................................................................................................................... .....  5-19\n",
      "Line Num.:  11 Basic Operation .......................................................................................................  5-19Proof Copy ..............................................................................................................  5-21Interrupt Copy ......... ................................................................................................  5-22\n",
      "Line Num.:  12 Canceling Jobs ........................................................................................................  5-22\n",
      "Line Num.:  13 Frequently-Used Sending Method .................................................................................  5-23\n",
      "Line Num.:  14 Sending Document via E-mail ........................................................................................  5-24\n",
      "Line Num.:  15 Configuring Settings before Sending ......................................................................  5-24Sending Scanned Document via E-mail ........ ..........................................................  5-24\n",
      "Line Num.:  16 Sending Document to Desired Shared Folder on a Computer (Scan to PC) .............  5-26\n",
      "Line Num.:  17 Configuring Settings before Sending ......................................................................  5-26Sending Document to Desired Shared Folder on a Computer  ................................  5-26\n",
      "Line Num.:  18 Sending Document to Folder on an FTP Server (Scan to FTP) ...................................  5-29\n",
      "Line Num.:  19 Configuring Settings before Sending ......................................................................  5-29Sending Document to Folder on an FTP Server .....................................................  5-29\n",
      "Line Num.:  20 Scanning using TWAIN or WIA ......................................................................................  5-31\n",
      "Line Num.:  21 Configuring Settings before Sending ......................................................................  5-31Scanning Document Using Application ...................................................................  5-31\n",
      "Line Num.:  22 Scanning Document stored in a Custom Box ..............................................................  5-32\n",
      "Line Num.:  23 Configuring Settings before Sending ......................................................................  5-32Scanning Document Stored in a Box ......................................................................  5-32\n",
      "Line Num.:  24 Useful Sending Method .. ................................................................................ ................  5-34\n",
      "Line Num.:  25 WSD Scan ...................................................................................................................... ..  5-35\n",
      "Line Num.:  26 Installing the Driver .................................................................................................  5-35Executing WSD scan ..............................................................................................  5-36\n",
      "Line Num.:  27 DSM Scan ...................................................................................................................... ...  5-37\n",
      "Line Num.:  28 Configuring Settings before Sending ......................................................................  5-37Executing DSM Scan ..............................................................................................  5-37\n",
      "Line Num.:  29 Scanning with File Management  Utility .........................................................................  5-39\n",
      "Line Num.:  30 Configuring Settings before Sending ......................................................................  5-39Using FMU Connection to Scan an Original ...........................................................  5-39\n",
      "Line Num.:  31 Using MultiCrop Scan .....................................................................................................  5-40\n",
      "Line Num.:  32 Configuring Settings before Scanning .....................................................................  5-40Using MultiCrop Scan to Send/Store an Original ....................................................  5-40\n",
      "Line Num.:  33 Sending to Different Types of Destinations (M ulti Sending) .......................................  5-42\n",
      "Line Num.:  34 Send to Me (Email) ..........................................................................................................  5 -44\n",
      "Line Num.:  35 Configuring Settings before Sending ......................................................................  5-44Sending a document to the mail address of t he logged in user ..............................  5-44\n",
      "Line Num.:  36 Using a Fax Server to Send (Fax  Server Send) ............................................................  5-45\n",
      "Line Num.:  37 Canceling Sending Jobs .................................................................................................  5-47Handling Destination ......................................................................................................  5-4 8\n",
      "Line Num.:  38 Specifying Destination .............................................................................................  5-48Choosing from the Address Book ...........................................................................  5-48\n"
     ]
    }
   ],
   "source": [
    "pdf_reader = PdfReader(\"docs/2554ci Operation Guide.pdf\")\n",
    "\n",
    "# Get the first page\n",
    "page = pdf_reader.pages[5]\n",
    "full_page_text = page.extract_text()\n",
    "print(type(full_page_text))\n",
    "\n",
    "for number, line in enumerate(full_page_text.splitlines()):\n",
    "    print(\"Line Num.: \", number, line)"
   ],
   "metadata": {
    "collapsed": false,
    "ExecuteTime": {
     "end_time": "2024-01-11T16:30:31.337750100Z",
     "start_time": "2024-01-11T16:30:31.053141100Z"
    }
   },
   "id": "70c6a8fb4714b356",
   "execution_count": 41
  }
 ],
 "metadata": {
  "kernelspec": {
   "display_name": "Python 3",
   "language": "python",
   "name": "python3"
  },
  "language_info": {
   "codemirror_mode": {
    "name": "ipython",
    "version": 2
   },
   "file_extension": ".py",
   "mimetype": "text/x-python",
   "name": "python",
   "nbconvert_exporter": "python",
   "pygments_lexer": "ipython2",
   "version": "2.7.6"
  }
 },
 "nbformat": 4,
 "nbformat_minor": 5
}
