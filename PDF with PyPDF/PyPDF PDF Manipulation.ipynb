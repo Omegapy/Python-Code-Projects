{
 "cells": [
  {
   "cell_type": "markdown",
   "source": [
    "# PyPDF PDF Manipulation\n",
    "\n",
    "Alejandro Ricciardi (Omegapy)  \n",
    "created date: 01/10/2024   \n",
    "[GitHub](https://github.com/Omegapy)  \n",
    "\n",
    "Credit: \n",
    "[Control PDF with Python & PyPDF2](https://www.udemy.com/course/control-pdf-with-python-pypdf2) Udemy - Conny Soderholm\n",
    "The original code was substantially modified to meet my requirements and to add functionally to the program."
   ],
   "metadata": {
    "collapsed": false
   },
   "id": "e28eec9c3881cd59"
  },
  {
   "cell_type": "markdown",
   "source": [
    "Projects Description:  \n",
    "Using the PyPDF to manipulate PDF files.\n",
    "- How to work with pages\n",
    "- How to scale, rotate, crop, clip, and watermark pages\n",
    "- How to split and join pages\n",
    "- How to read a pdf to memory instead of having to write to disk\n",
    "\n",
    "The [PageOject Class](https://pypdf.readthedocs.io/en/stable/modules/PageObject.html?highlight=add_transformation#the-pageobject-class) represents a single within a PDF file. \n",
    "\n",
    "Typically this object will be created by accessing the ```pdf_reader.get_page()``` single page method of the PdfReader class, but it is also possible to create an empty page with the ```create_blank_page()``` static and get all the pages with the ```pdf_reader.pages``` method.\n"
   ],
   "metadata": {
    "collapsed": false
   },
   "id": "9a898916c9ff8924"
  },
  {
   "cell_type": "markdown",
   "source": [
    "Project map:\n",
    "- Transformation Matrix -```page.add_transformation( (scale,0,0,scale,0,0) )```-\n",
    "    - Sheer Transformation x Axis To The Right\n",
    "    - Scaling Pages -```page.add_transformation( (scale,0,0,scale,0,0) )```-\n",
    "- Rotated Page -```page.rotate(90)```-\n"
   ],
   "metadata": {
    "collapsed": false
   },
   "id": "43b825bf47cd64e4"
  },
  {
   "cell_type": "code",
   "outputs": [],
   "source": [
    "from pypdf import PdfReader, PdfWriter"
   ],
   "metadata": {
    "collapsed": false,
    "ExecuteTime": {
     "end_time": "2024-01-11T20:25:05.849691800Z",
     "start_time": "2024-01-11T20:25:05.719336200Z"
    }
   },
   "id": "6c52ae3b4ff049d0",
   "execution_count": 1
  },
  {
   "cell_type": "markdown",
   "source": [
    "### Transformation Matrix\n",
    "\n",
    "[The Transformation Class](https://pypdf.readthedocs.io/en/stable/modules/Transformation.html)\n",
    "\n",
    "Represent a 2D transformation.\n",
    "\n",
    "The transformation between two coordinate systems is represented by a 3-by-3 transformation matrix matrix with the following form:\n",
    "\n",
    "a b **0**\n",
    "c d **0**\n",
    "e f **1**\n",
    "\n",
    "Because a transformation matrix has only six elements that can be changed,  \n",
    "it is usually specified in PDF as the six-element array ```[ a b c d e f ]```.\n",
    "```page.add_transformation( (a,b,c,b,e,f) )```\n",
    "\n",
    "Coordinate transformations are expressed as matrix multiplications:\n",
    "\n",
    "                           \n",
    " $\\;\\;\\;\\;\\;\\;\\;\\;\\;\\;\\;\\;\\;\\;\\;\\;\\;\\;\\;\\;\\;\\;\\;\\;\\;\\;\\;\\;\\;\\;\\;$ a b **0**\n",
    "[ x′ y′ 1 ] = [ x y 1 ] × c d **0**\n",
    "$\\;\\;\\;\\;\\;\\;\\;\\;\\;\\;\\;\\;\\;\\;\\;\\;\\;\\;\\;\\;\\;\\;\\;\\;\\;\\;\\;\\;\\;\\;\\;$ e f **1**\n",
    "\n",
    "\n",
    "<p></p>\n",
    "<img src=\"pics/2D Matrix Transformation.png\" alt=\"Alternative text\" />\n"
   ],
   "metadata": {
    "collapsed": false
   },
   "id": "8937fd60c70a3348"
  },
  {
   "cell_type": "markdown",
   "source": [
    "#### Sheer Transformation x Axis To The Right"
   ],
   "metadata": {
    "collapsed": false
   },
   "id": "c874bccdb16759e6"
  },
  {
   "cell_type": "code",
   "outputs": [],
   "source": [
    "pdf_reader = PdfReader(\"docs/docs_pdf/Section 4 Manipulating Pages/camera.pdf\")\n",
    "\n",
    "# Creat an object write\n",
    "pdf_writer_x = PdfWriter()\n",
    "\n",
    "# Get all the pages\n",
    "pages = pdf_reader.pages\n",
    "\n",
    "for page in pages:\n",
    "    page.add_transformation( (1,1,0,0,1,0) ) # Apply a transformation matrix to the page.\n",
    "    pdf_writer_x.add_page(page)\n",
    "\n",
    "# Save the new PDF to disk\n",
    "with open(\"Manipulated PDFs/camera_sheer_xright.pdf\", \"wb\") as f:\n",
    "        pdf_writer_x.write(f)"
   ],
   "metadata": {
    "collapsed": false,
    "ExecuteTime": {
     "end_time": "2024-01-11T23:48:23.867139600Z",
     "start_time": "2024-01-11T23:48:23.839635800Z"
    }
   },
   "id": "ae5a3ea2181b0b81",
   "execution_count": 28
  },
  {
   "cell_type": "markdown",
   "source": [
    "#### Scale Transformation Using "
   ],
   "metadata": {
    "collapsed": false
   },
   "id": "ef80f4dbf08bb4fa"
  },
  {
   "cell_type": "code",
   "outputs": [],
   "source": [
    "pdf_reader = PdfReader(\"docs/docs_pdf/Section 4 Manipulating Pages/camera.pdf\")\n",
    "# Creat an object write\n",
    "pdf_writer = PdfWriter()\n",
    "\n",
    "# Get all the pages\n",
    "pages = pdf_reader.pages\n",
    "\n",
    "# scale factor\n",
    "scale = 0.5\n",
    "\n",
    "for page in pages:\n",
    "    page.add_transformation( (scale,0,0,scale,0,0) )# Apply a transformation matrix to the page.\n",
    "    pdf_writer.add_page(page)\n",
    "\n",
    "# Save the new PDF to disk\n",
    "with open(\"Manipulated PDFs/camera_T_scaledby_05.pdf\", \"wb\") as f:\n",
    "        pdf_writer.write(f)"
   ],
   "metadata": {
    "collapsed": false,
    "ExecuteTime": {
     "end_time": "2024-01-11T23:54:50.353070500Z",
     "start_time": "2024-01-11T23:54:50.328050300Z"
    }
   },
   "id": "c49832f23846720f",
   "execution_count": 30
  },
  {
   "cell_type": "markdown",
   "source": [
    "### Rotated Page\n",
    "Rotates by increments of 90 degrees"
   ],
   "metadata": {
    "collapsed": false
   },
   "id": "e05ab863a880f049"
  },
  {
   "cell_type": "code",
   "outputs": [
    {
     "ename": "ValueError",
     "evalue": "Rotation angle must be a multiple of 90",
     "output_type": "error",
     "traceback": [
      "\u001B[1;31m---------------------------------------------------------------------------\u001B[0m",
      "\u001B[1;31mValueError\u001B[0m                                Traceback (most recent call last)",
      "Cell \u001B[1;32mIn[35], line 9\u001B[0m\n\u001B[0;32m      6\u001B[0m pages \u001B[38;5;241m=\u001B[39m pdf_reader\u001B[38;5;241m.\u001B[39mpages\n\u001B[0;32m      8\u001B[0m \u001B[38;5;28;01mfor\u001B[39;00m page \u001B[38;5;129;01min\u001B[39;00m pages:\n\u001B[1;32m----> 9\u001B[0m     \u001B[43mpage\u001B[49m\u001B[38;5;241;43m.\u001B[39;49m\u001B[43mrotate\u001B[49m\u001B[43m(\u001B[49m\u001B[38;5;241;43m30\u001B[39;49m\u001B[43m)\u001B[49m\n\u001B[0;32m     10\u001B[0m     pdf_writer\u001B[38;5;241m.\u001B[39madd_page(page)\n\u001B[0;32m     12\u001B[0m \u001B[38;5;66;03m# Save the new PDF to disk\u001B[39;00m\n",
      "File \u001B[1;32m~\\.virtualenvs\\PDF_with_PyPDF-eFboonEU\\Lib\\site-packages\\pypdf\\_page.py:768\u001B[0m, in \u001B[0;36mPageObject.rotate\u001B[1;34m(self, angle)\u001B[0m\n\u001B[0;32m    758\u001B[0m \u001B[38;5;250m\u001B[39m\u001B[38;5;124;03m\"\"\"\u001B[39;00m\n\u001B[0;32m    759\u001B[0m \u001B[38;5;124;03mRotate a page clockwise by increments of 90 degrees.\u001B[39;00m\n\u001B[0;32m    760\u001B[0m \n\u001B[1;32m   (...)\u001B[0m\n\u001B[0;32m    765\u001B[0m \u001B[38;5;124;03m    The rotated PageObject\u001B[39;00m\n\u001B[0;32m    766\u001B[0m \u001B[38;5;124;03m\"\"\"\u001B[39;00m\n\u001B[0;32m    767\u001B[0m \u001B[38;5;28;01mif\u001B[39;00m angle \u001B[38;5;241m%\u001B[39m \u001B[38;5;241m90\u001B[39m \u001B[38;5;241m!=\u001B[39m \u001B[38;5;241m0\u001B[39m:\n\u001B[1;32m--> 768\u001B[0m     \u001B[38;5;28;01mraise\u001B[39;00m \u001B[38;5;167;01mValueError\u001B[39;00m(\u001B[38;5;124m\"\u001B[39m\u001B[38;5;124mRotation angle must be a multiple of 90\u001B[39m\u001B[38;5;124m\"\u001B[39m)\n\u001B[0;32m    769\u001B[0m \u001B[38;5;28mself\u001B[39m[NameObject(PG\u001B[38;5;241m.\u001B[39mROTATE)] \u001B[38;5;241m=\u001B[39m NumberObject(\u001B[38;5;28mself\u001B[39m\u001B[38;5;241m.\u001B[39mrotation \u001B[38;5;241m+\u001B[39m angle)\n\u001B[0;32m    770\u001B[0m \u001B[38;5;28;01mreturn\u001B[39;00m \u001B[38;5;28mself\u001B[39m\n",
      "\u001B[1;31mValueError\u001B[0m: Rotation angle must be a multiple of 90"
     ]
    }
   ],
   "source": [
    "pdf_reader = PdfReader(\"docs/docs_pdf/Section 4 Manipulating Pages/camera.pdf\")\n",
    "# Creat an object write\n",
    "pdf_writer = PdfWriter()\n",
    "\n",
    "# Get all the pages\n",
    "pages = pdf_reader.pages\n",
    "\n",
    "for page in pages:\n",
    "    page.rotate(90)\n",
    "    pdf_writer.add_page(page)\n",
    "\n",
    "# Save the new PDF to disk\n",
    "with open(\"Manipulated PDFs/camera_rotated_clockwise_90.pdf\", \"wb\") as f:\n",
    "        pdf_writer.write(f)"
   ],
   "metadata": {
    "collapsed": false,
    "ExecuteTime": {
     "end_time": "2024-01-12T00:07:34.473371400Z",
     "start_time": "2024-01-12T00:07:34.464566500Z"
    }
   },
   "id": "2ffe1c236dae03d3",
   "execution_count": 35
  },
  {
   "cell_type": "markdown",
   "source": [
    "### Creating Blank Pages\n",
    "\n",
    "addBlankPage(width=None, height=None)\n",
    "Appends a blank page to this PDF file and returns it. If no page size is specified, use the size of the last page.\n",
    "\n",
    "Parameters: \n",
    "width (float) – The width of the new page expressed in default user space units.\n",
    "height (float) – The height of the new page expressed in default user space units.\n",
    "Returns:    \n",
    "the newly appended page\n",
    "\n",
    "Return type:    \n",
    "PageObject\n",
    "\n",
    "Raises PageSizeNotDefinedError:\n",
    "    \n",
    "if width and height are not defined and previous page does not exist.\n",
    "\n",
    "***************************\n",
    "insertBlankPage(width=None, height=None, index=0)\n",
    "Inserts a blank page to this PDF file and returns it. If no page size is specified, use the size of the last page.\n",
    "\n",
    "Parameters: \n",
    "width (float) – The width of the new page expressed in default user space units.\n",
    "height (float) – The height of the new page expressed in default user space units.\n",
    "index (int) – Position to add the page.\n",
    "Returns:    \n",
    "the newly appended page\n",
    "\n",
    "Return type:    \n",
    "PageObject\n",
    "\n",
    "Raises PageSizeNotDefinedError:\n",
    "    \n",
    "if width and height are not defined and previous page does not exist.\n",
    "\n",
    "***************************\n",
    "https://pythonhosted.org/PyPDF2/PageObject.html#PyPDF2.pdf.PageObject.createBlankPage\n",
    "static createBlankPage(pdf=None, width=None, height=None)\n",
    "Returns a new blank page. If width or height is None, try to get the page size from the last page of pdf.\n",
    "\n",
    "Parameters: \n",
    "pdf – PDF file the page belongs to\n",
    "width (float) – The width of the new page expressed in default user space units.\n",
    "height (float) – The height of the new page expressed in default user space units.\n",
    "Returns:    \n",
    "the new blank page:\n",
    "\n",
    "Return type:    \n",
    "PageObject\n",
    "\n",
    "Raises PageSizeNotDefinedError:\n",
    "    \n",
    "if pdf is None or contains no page\n"
   ],
   "metadata": {
    "collapsed": false
   },
   "id": "150c42204084263"
  },
  {
   "cell_type": "code",
   "outputs": [],
   "source": [
    "pdf_reader = PdfReader(\"docs/docs_pdf/Section 4 Manipulating Pages/camera.pdf\")\n",
    "# Creat an object write\n",
    "pdf_writer = PdfWriter()\n",
    "\n",
    "# Get all the pages\n",
    "pages = pdf_reader.pages\n",
    "\n"
   ],
   "metadata": {
    "collapsed": false
   },
   "id": "9df35eb968d24dab"
  },
  {
   "cell_type": "markdown",
   "source": [],
   "metadata": {
    "collapsed": false
   },
   "id": "1115ce06b332e430"
  }
 ],
 "metadata": {
  "kernelspec": {
   "display_name": "Python 3",
   "language": "python",
   "name": "python3"
  },
  "language_info": {
   "codemirror_mode": {
    "name": "ipython",
    "version": 2
   },
   "file_extension": ".py",
   "mimetype": "text/x-python",
   "name": "python",
   "nbconvert_exporter": "python",
   "pygments_lexer": "ipython2",
   "version": "2.7.6"
  }
 },
 "nbformat": 4,
 "nbformat_minor": 5
}
