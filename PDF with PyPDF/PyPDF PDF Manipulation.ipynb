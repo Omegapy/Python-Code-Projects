{
 "cells": [
  {
   "cell_type": "markdown",
   "source": [
    "# PyPDF PDF Manipulation\n",
    "\n",
    "Alejandro Ricciardi (Omegapy)  \n",
    "created date: 01/10/2024   \n",
    "[GitHub](https://github.com/Omegapy)  \n",
    "\n",
    "Credit: \n",
    "[Control PDF with Python & PyPDF2](https://www.udemy.com/course/control-pdf-with-python-pypdf2) Udemy - Conny Soderholm\n",
    "The original code was substantially modified from PyPDF2 to PyPDF v3.17.4, to meet my requirements, and to add functionally to the program."
   ],
   "metadata": {
    "collapsed": false
   },
   "id": "e28eec9c3881cd59"
  },
  {
   "cell_type": "markdown",
   "source": [
    "Projects Description:  \n",
    "Using PyPDF to manipulate PDF files.\n",
    "- How to work with pages\n",
    "- How to scale, rotate, crop, clip, and watermark pages\n",
    "- How to split and join pages\n",
    "- How to read a pdf to memory instead of having to write to disk\n",
    "\n",
    "The [PageOject Class](https://pypdf.readthedocs.io/en/stable/modules/PageObject.html?highlight=add_transformation#the-pageobject-class) represents a single page within a PDF file. \n",
    "\n",
    "Typically this object will be created by accessing the ```pdf_reader_object.pages``` or ```pdf_writer_object.pages```, a list of all the pages, a page is a PageOject Class which is a subclass of the PdfReader and PdfWriter classes, but it is also possible to create an empty page with the ```create_blank_page()```.\n"
   ],
   "metadata": {
    "collapsed": false
   },
   "id": "9a898916c9ff8924"
  },
  {
   "cell_type": "markdown",
   "source": [
    "Project map:\n",
    "- Transformation Matrix \n",
    "    - Sheer Transformation x Axis To The Right -```page.add_transformation( (1,0,.5,1,0,0) )```-\n",
    "    - Sheer Transformation y Axis up -```page.add_transformation( (scale,0,0,scale,0,0) )```-\n",
    "    - Scaling Pages -```page.add_transformation( (scale,0,0,scale,0,0) )```-\n",
    "    - More Transformation Using the Transformation Matrix Method\n",
    "- Rotated Page -```page.rotate(90)```-\n",
    "- Creating Blank Pages\n",
    "    - Stand alone blank page -```blank_page = pages[0].create_blank_page(pdf=pdf_reader, width=None, height=None)```-\n",
    "    - Add a blank page at a particular index -```pdf_writer.insert_blank_page(None, None, 2)```-\n",
    "    - Add a blank page at the end of a PDF -```pdf_writer.add_blank_page()```-\n",
    "- Splitting PDFs\n",
    "    - Splitting Documents in Half Or Thirds -```pdf_writer_0_to_5.append( pdf_reader, pages=(0, 5) )```-\n",
    "    - Splitting Documents by Individual Pages -```pdf_writer_even.append( pdf_reader, pages=[0,2,4,6,8,10] )```-\n",
    "- Merging PDFs -```for pdf in PDFList : pdf_writer_merged.append(pdf)```-\n",
    "- PDF Boxes\n",
    "    - Display Boxes Boundaries Functions\n",
    "    - Format Page From A5 to A5 \n",
    "- Clipping - Merge Pages -```page.merge_page(overlay_page)```-\n",
    "- Water Marking - Merge Pages -```page.merge_page(page_watermark, True, False)```-\n",
    "- Read PDF From Memory\n",
    "- Decreasing PDF file size - PDF Compression-```page.compress_content_streams()```-"
   ],
   "metadata": {
    "collapsed": false
   },
   "id": "43b825bf47cd64e4"
  },
  {
   "cell_type": "code",
   "outputs": [],
   "source": [
    "from pypdf import PdfReader, PdfWriter\n",
    "import subprocess"
   ],
   "metadata": {
    "collapsed": false,
    "ExecuteTime": {
     "end_time": "2024-01-18T02:49:32.469457Z",
     "start_time": "2024-01-18T02:49:32.377444300Z"
    }
   },
   "id": "6c52ae3b4ff049d0",
   "execution_count": 1
  },
  {
   "cell_type": "markdown",
   "source": [
    "### Transformation Matrix\n",
    "\n",
    "[The Transformation Class](https://pypdf.readthedocs.io/en/stable/modules/Transformation.html)\n",
    "\n",
    "Represent a 2D transformation.\n",
    "\n",
    "The transformation between two coordinate systems is represented by a 3-by-3 transformation matrix matrix with the following form:\n",
    "\n",
    "a b **0**\n",
    "c d **0**\n",
    "e f **1**\n",
    "\n",
    "Because a transformation matrix has only six elements that can be changed,  \n",
    "it is usually specified in PDF as the six-element array ```[ a c b d e f ]```.\n",
    "```page.add_transformation( (a,c,b,b,e,f) )```\n",
    "\n",
    "Coordinate transformations are expressed as matrix multiplications:\n",
    "\n",
    "                           \n",
    " $\\;\\;\\;\\;\\;\\;\\;\\;\\;\\;\\;\\;\\;\\;\\;\\;\\;\\;\\;\\;\\;\\;\\;\\;\\;\\;\\;\\;\\;\\;\\;$ a b **0**\n",
    "[ x′ y′ 1 ] = [ x y 1 ] × c d **0**\n",
    "$\\;\\;\\;\\;\\;\\;\\;\\;\\;\\;\\;\\;\\;\\;\\;\\;\\;\\;\\;\\;\\;\\;\\;\\;\\;\\;\\;\\;\\;\\;\\;$ e f **1**\n",
    "\n",
    "\n",
    "<p></p>\n",
    "<img src=\"pics/2D Matrix Transformation.png\" alt=\"Transformation Matrix\"  width=\"863\" height=\"483.2\"/>\n"
   ],
   "metadata": {
    "collapsed": false
   },
   "id": "8937fd60c70a3348"
  },
  {
   "cell_type": "markdown",
   "source": [
    "##### Sheer Transformation x Axis To The Right"
   ],
   "metadata": {
    "collapsed": false
   },
   "id": "c874bccdb16759e6"
  },
  {
   "cell_type": "code",
   "outputs": [
    {
     "data": {
      "text/plain": "<Popen: returncode: None args: ['Manipulated PDFs/camera_sheer_x_right.pdf']>"
     },
     "execution_count": 2,
     "metadata": {},
     "output_type": "execute_result"
    }
   ],
   "source": [
    "pdf_reader = PdfReader(\"docs/camera.pdf\")\n",
    "\n",
    "# Creat an object writer\n",
    "pdf_writer_x = PdfWriter()\n",
    "\n",
    "# Get all the pages\n",
    "pages = pdf_reader.pages\n",
    "\n",
    "for page in pages:\n",
    "    page.add_transformation( (1,0,.5,1,0,0) ) # Apply a transformation matrix to the page.\n",
    "    pdf_writer_x.add_page(page)\n",
    "\n",
    "# Save the new PDF to disk\n",
    "with open(\"Manipulated PDFs/camera_sheer_x_right.pdf\", \"wb\") as f:\n",
    "        pdf_writer_x.write(f)\n",
    "# Opens PDF\n",
    "subprocess.Popen([\"Manipulated PDFs/camera_sheer_x_right.pdf\"],shell=True)"
   ],
   "metadata": {
    "collapsed": false,
    "ExecuteTime": {
     "end_time": "2024-01-18T02:49:32.495938700Z",
     "start_time": "2024-01-18T02:49:32.411525600Z"
    }
   },
   "id": "731409ad3ef220c6",
   "execution_count": 2
  },
  {
   "cell_type": "markdown",
   "source": [
    "##### Sheer Transformation y Axis up"
   ],
   "metadata": {
    "collapsed": false
   },
   "id": "acfb3c284d81b17a"
  },
  {
   "cell_type": "code",
   "outputs": [
    {
     "data": {
      "text/plain": "<Popen: returncode: None args: ['Manipulated PDFs/camera_sheer_y_up,pdf']>"
     },
     "execution_count": 3,
     "metadata": {},
     "output_type": "execute_result"
    }
   ],
   "source": [
    "pdf_reader = PdfReader(\"docs/camera.pdf\")\n",
    "\n",
    "# Creat an object writer\n",
    "pdf_writer_y = PdfWriter()\n",
    "\n",
    "# Get all the pages\n",
    "pages = pdf_reader.pages\n",
    "\n",
    "# entire document is transforms\n",
    "for page in pages:\n",
    "    page.add_transformation( (1,0.5,0,1,0,0) ) # Apply a transformation matrix to the page.\n",
    "    pdf_writer_y.add_page(page)\n",
    "\n",
    "# Save the new PDF to disk\n",
    "with open(\"Manipulated PDFs/camera_sheer_y_up.pdf\", \"wb\") as f:\n",
    "        pdf_writer_y.write(f)\n",
    "\n",
    "# Opens PDF\n",
    "subprocess.Popen([\"Manipulated PDFs/camera_sheer_y_up,pdf\"],shell=True)"
   ],
   "metadata": {
    "collapsed": false,
    "ExecuteTime": {
     "end_time": "2024-01-18T02:49:32.518587200Z",
     "start_time": "2024-01-18T02:49:32.459460700Z"
    }
   },
   "id": "ae5a3ea2181b0b81",
   "execution_count": 3
  },
  {
   "cell_type": "markdown",
   "source": [
    "##### Scale Transformation Using the Transformation Matrix Method"
   ],
   "metadata": {
    "collapsed": false
   },
   "id": "ef80f4dbf08bb4fa"
  },
  {
   "cell_type": "code",
   "outputs": [
    {
     "data": {
      "text/plain": "<Popen: returncode: None args: ['Manipulated PDFs/camera_T_scaledby_05.pdf']>"
     },
     "execution_count": 4,
     "metadata": {},
     "output_type": "execute_result"
    }
   ],
   "source": [
    "pdf_reader = PdfReader(\"docs/camera.pdf\")\n",
    "# Creat an object writer\n",
    "pdf_writer = PdfWriter()\n",
    "\n",
    "# Get all the pages\n",
    "pages = pdf_reader.pages\n",
    "\n",
    "# scale factor\n",
    "scale = 0.5\n",
    "\n",
    "for page in pages:\n",
    "    page.add_transformation( (scale,0,0,scale,0,0) )# Apply a transformation matrix to the page.\n",
    "    pdf_writer.add_page(page)\n",
    "\n",
    "# Save the new PDF to disk\n",
    "with open(\"Manipulated PDFs/camera_T_scaledby_05.pdf\", \"wb\") as f:\n",
    "        pdf_writer.write(f)\n",
    "# Opens PDF\n",
    "subprocess.Popen([\"Manipulated PDFs/camera_T_scaledby_05.pdf\"],shell=True)"
   ],
   "metadata": {
    "collapsed": false,
    "ExecuteTime": {
     "end_time": "2024-01-18T02:49:32.569442200Z",
     "start_time": "2024-01-18T02:49:32.502141200Z"
    }
   },
   "id": "c49832f23846720f",
   "execution_count": 4
  },
  {
   "cell_type": "markdown",
   "source": [
    "##### More Transformation Using the Transformation Matrix Method"
   ],
   "metadata": {
    "collapsed": false
   },
   "id": "db2206fdda6c7c0a"
  },
  {
   "cell_type": "code",
   "outputs": [],
   "source": [
    " # Default units are points or pt\n",
    "# 1 pt = 1/72 inch\n",
    "# 1 pt = 0.0352778 cm\n",
    "\n",
    "\n",
    "# move 100 points from the left side to the right side\n",
    "page.add_transformation( (1,0,0,1,100,0) )\n",
    "\n",
    "# move 3 (216/72) inches from the top to the bottom\n",
    "page.add_transformation( (1,0,0,1,0,-216) )\n",
    "\n",
    "# scale the document 0.5 times smaller\n",
    "page.add_transformation( (0.5,0,0,0.5,0,0) )\n",
    "\n",
    "# scale the document 2 times larger\n",
    "page.add_transformation( (2,0,0,2,0,0) )\n",
    "\n",
    "# rotate the document 30 degrees counterclockwise (cos θ sin θ −sin θ cos θ)\n",
    "page.add_transformation( (0.87, 0.5, -0.5, 0.87, 0, 0) )\n",
    "\n",
    "# rotate the document 60 degrees counterclockwise (cos θ sin θ −sin θ cos θ)\n",
    "page.add_transformation( (0.5, 0.8660, -0.8660, 0.5, 0, 0) )\n",
    "\n",
    "# Skew the document 30 degrees in X (1 tan α tan β 1 0 0)\n",
    "page.add_transformation( (1, 0.5773, 0, 1, 0, 0) )\n",
    "\n",
    "# Skew the document 30 degrees in Y (1 tan α tan β 1 0 0)\n",
    "page.add_transformation( (1, 0, 0.5773, 1, 0, 0) )\n",
    "    "
   ],
   "metadata": {
    "collapsed": false,
    "ExecuteTime": {
     "end_time": "2024-01-18T02:49:32.746399700Z",
     "start_time": "2024-01-18T02:49:32.642457700Z"
    }
   },
   "id": "ee9e2175b0ef0aca",
   "execution_count": 5
  },
  {
   "cell_type": "markdown",
   "source": [
    "### Rotated Page\n",
    "Rotates by increments of 90 degrees"
   ],
   "metadata": {
    "collapsed": false
   },
   "id": "e05ab863a880f049"
  },
  {
   "cell_type": "code",
   "outputs": [
    {
     "data": {
      "text/plain": "<Popen: returncode: None args: ['Manipulated PDFs/camera_rotated_clockwise_9...>"
     },
     "execution_count": 6,
     "metadata": {},
     "output_type": "execute_result"
    }
   ],
   "source": [
    "pdf_reader = PdfReader(\"docs/camera.pdf\")\n",
    "# Creat an object writer\n",
    "pdf_writer = PdfWriter()\n",
    "\n",
    "# Get all the pages\n",
    "pages = pdf_reader.pages\n",
    "\n",
    "for page in pages:\n",
    "    page.rotate(90)\n",
    "    pdf_writer.add_page(page)\n",
    "\n",
    "# Save the new PDF to disk\n",
    "with open(\"Manipulated PDFs/camera_rotated_clockwise_90.pdf\", \"wb\") as f:\n",
    "        pdf_writer.write(f)\n",
    "# Opens PDF\n",
    "subprocess.Popen([\"Manipulated PDFs/camera_rotated_clockwise_90.pdf\"],shell=True)"
   ],
   "metadata": {
    "collapsed": false,
    "ExecuteTime": {
     "end_time": "2024-01-18T02:49:32.748978500Z",
     "start_time": "2024-01-18T02:49:32.723595800Z"
    }
   },
   "id": "2ffe1c236dae03d3",
   "execution_count": 6
  },
  {
   "cell_type": "markdown",
   "source": [
    "### Creating and Adding Blank Pages\n",
    "\n",
    "Default units are points or pt\n",
    " 1 pt = 1/72 inch\n",
    "1 pt = 0.0352778 cm = 0.352778mm\n",
    "200 pt = 70.5556 mm\n"
   ],
   "metadata": {
    "collapsed": false
   },
   "id": "548e3c8dbe91dd25"
  },
  {
   "cell_type": "markdown",
   "source": [
    "##### Stand alone blank page"
   ],
   "metadata": {
    "collapsed": false
   },
   "id": "db9187f8517a2977"
  },
  {
   "cell_type": "code",
   "outputs": [
    {
     "data": {
      "text/plain": "<Popen: returncode: None args: ['Manipulated PDFs/blank_page.pdf']>"
     },
     "execution_count": 7,
     "metadata": {},
     "output_type": "execute_result"
    }
   ],
   "source": [
    "pdf_reader = PdfReader(\"docs/Pages.pdf\")\n",
    "# Creat an object writer\n",
    "pdf_writer = PdfWriter()\n",
    "\n",
    "# gets all the pages from the writer\n",
    "pages = pdf_reader.pages\n",
    "\n",
    "# Creates a blank page as the same size as page[0]\n",
    "blank_page = pages[0].create_blank_page(pdf=pdf_reader, width=None, height=None)\n",
    "# Adds blank page to writer\n",
    "pdf_writer.add_page(blank_page)\n",
    "\n",
    "# Save the new PDF to disk\n",
    "with open(\"Manipulated PDFs/blank_page.pdf\", \"wb\") as f:\n",
    "        pdf_writer.write(f)\n",
    "# Opens PDF\n",
    "subprocess.Popen([\"Manipulated PDFs/blank_page.pdf\"],shell=True)"
   ],
   "metadata": {
    "collapsed": false,
    "ExecuteTime": {
     "end_time": "2024-01-18T02:49:32.793702400Z",
     "start_time": "2024-01-18T02:49:32.749975300Z"
    }
   },
   "id": "d73480c35472b1b",
   "execution_count": 7
  },
  {
   "cell_type": "markdown",
   "source": [
    "##### Add a blank page at a particular index\n",
    "\n",
    "Creates a blank page. If no page size is specified, use the size of the page oject.\n"
   ],
   "metadata": {
    "collapsed": false
   },
   "id": "150c42204084263"
  },
  {
   "cell_type": "code",
   "outputs": [
    {
     "data": {
      "text/plain": "<Popen: returncode: None args: ['Manipulated PDFs/Pages_add_blankpage_atinde...>"
     },
     "execution_count": 8,
     "metadata": {},
     "output_type": "execute_result"
    }
   ],
   "source": [
    "pdf_reader = PdfReader(\"docs/Pages.pdf\")\n",
    "# Creat an object writer\n",
    "pdf_writer = PdfWriter()\n",
    "\n",
    "# Adds all reader pages to writer\n",
    "pdf_writer.append_pages_from_reader(pdf_reader)\n",
    "# Adds a blank page at index 2 (page-3)\n",
    "pdf_writer.insert_blank_page(None, None, 2)\n",
    "        \n",
    "# Save the new PDF to disk\n",
    "with open(\"Manipulated PDFs/Pages_add_blankpage_atindex.pdf\", \"wb\") as f:\n",
    "        pdf_writer.write(f)\n",
    "# Opens PDF\n",
    "subprocess.Popen([\"Manipulated PDFs/Pages_add_blankpage_atindex.pdf\"],shell=True)"
   ],
   "metadata": {
    "collapsed": false,
    "ExecuteTime": {
     "end_time": "2024-01-18T02:49:32.793702400Z",
     "start_time": "2024-01-18T02:49:32.773218700Z"
    }
   },
   "id": "9df35eb968d24dab",
   "execution_count": 8
  },
  {
   "cell_type": "markdown",
   "source": [
    "##### Add a blank page at the end of a PDF"
   ],
   "metadata": {
    "collapsed": false
   },
   "id": "1115ce06b332e430"
  },
  {
   "cell_type": "code",
   "outputs": [
    {
     "data": {
      "text/plain": "<Popen: returncode: None args: ['Manipulated PDFs/Pages_add_blankpage_atendd...>"
     },
     "execution_count": 9,
     "metadata": {},
     "output_type": "execute_result"
    }
   ],
   "source": [
    "pdf_reader = PdfReader(\"docs/Pages.pdf\")\n",
    "# Creat an object writer\n",
    "pdf_writer = PdfWriter()\n",
    "\n",
    "# Adds all reader pages to writer\n",
    "pdf_writer.append_pages_from_reader(pdf_reader)\n",
    "# Adds a blank page at the end of the PDF\n",
    "pdf_writer.add_blank_page()\n",
    "\n",
    "# Save the new PDF to disk\n",
    "with open(\"Manipulated PDFs/Pages_add_blankpage_atenddoc.pdf\", \"wb\") as f:\n",
    "    pdf_writer.write(f)\n",
    "# Opens PDF\n",
    "subprocess.Popen([\"Manipulated PDFs/Pages_add_blankpage_atenddoc.pdf\"],shell=True)"
   ],
   "metadata": {
    "collapsed": false,
    "ExecuteTime": {
     "end_time": "2024-01-18T02:49:32.862510400Z",
     "start_time": "2024-01-18T02:49:32.795204700Z"
    }
   },
   "id": "ad8957bb3a66e989",
   "execution_count": 9
  },
  {
   "cell_type": "markdown",
   "source": [
    "### Splitting PDFs"
   ],
   "metadata": {
    "collapsed": false
   },
   "id": "e107a3de80ea0f5"
  },
  {
   "cell_type": "markdown",
   "source": [
    "##### Splitting Documents in Half Or Thirds"
   ],
   "metadata": {
    "collapsed": false
   },
   "id": "e0b089e48d495fd6"
  },
  {
   "cell_type": "code",
   "outputs": [
    {
     "data": {
      "text/plain": "<Popen: returncode: None args: ['Manipulated PDFs/Pages_split_pages-6-10.pdf']>"
     },
     "execution_count": 10,
     "metadata": {},
     "output_type": "execute_result"
    }
   ],
   "source": [
    "pdf_reader = PdfReader(\"docs/Pages.pdf\")\n",
    "# Creat an object writer\n",
    "pdf_writer_0_to_5 = PdfWriter()\n",
    "pdf_writer_6_to_10 = PdfWriter()\n",
    "\n",
    "# Splits page 1 to 5 from PDF\n",
    "pdf_writer_0_to_5.append( pdf_reader, pages=(0, 5) )\n",
    "# Splits page 6 to 10 from PDF\n",
    "pdf_writer_6_to_10.append( pdf_reader, pages=(5, len(pdf_reader.pages)) )\n",
    "\n",
    "# Save the new PDF to disk\n",
    "with open(\"Manipulated PDFs/Pages_split_pages-1-5.pdf\", \"wb\") as f:\n",
    "    pdf_writer_0_to_5.write(f)\n",
    "# Opens PDF\n",
    "subprocess.Popen([\"Manipulated PDFs/Pages_split_pages-1-5.pdf\"],shell=True)\n",
    "# Save the new PDF to disk\n",
    "with open(\"Manipulated PDFs/Pages_split_pages-6-10.pdf\", \"wb\") as f:\n",
    "    pdf_writer_6_to_10.write(f)\n",
    "# Opens PDF\n",
    "subprocess.Popen([\"Manipulated PDFs/Pages_split_pages-6-10.pdf\"],shell=True)"
   ],
   "metadata": {
    "collapsed": false,
    "ExecuteTime": {
     "end_time": "2024-01-18T02:49:32.904039100Z",
     "start_time": "2024-01-18T02:49:32.817438700Z"
    }
   },
   "id": "e2276e1c31e7d5c2",
   "execution_count": 10
  },
  {
   "cell_type": "markdown",
   "source": [
    "##### Splitting Documents by Extracting individual pages"
   ],
   "metadata": {
    "collapsed": false
   },
   "id": "f8bf58351d502f82"
  },
  {
   "cell_type": "code",
   "outputs": [
    {
     "data": {
      "text/plain": "<Popen: returncode: None args: ['Manipulated PDFs/Pages_split_odd_pages.pdf....>"
     },
     "execution_count": 11,
     "metadata": {},
     "output_type": "execute_result"
    }
   ],
   "source": [
    "pdf_reader = PdfReader(\"docs/Pages.pdf\")\n",
    "# Creat an object write\n",
    "pdf_writer_even = PdfWriter()\n",
    "pdf_writer_odd = PdfWriter()\n",
    "\n",
    "# Splits page 1 to 5 from PDF\n",
    "# pdf_writer_even.append( pdf_reader, pages=[0,2,4,6,8,10] )\n",
    "pdf_writer_even.append( pdf_reader, pages=list(filter(lambda x: (x%2==0),range(0,len(pdf_reader.pages)))) )\n",
    "# Splits page 6 to 10 from PDF\n",
    "pdf_writer_odd.append( pdf_reader, pages=list(filter(lambda x: (x%2!=0),range(0,len(pdf_reader.pages)))) )\n",
    "\n",
    "# Save the new PDF to disk\n",
    "with open(\"Manipulated PDFs/Pages_split_even_pages.pdf\", \"wb\") as f:\n",
    "    pdf_writer_even.write(f)\n",
    "# Opens PDF\n",
    "subprocess.Popen([\"Manipulated PDFs/Pages_split_even_pages.pdf.pdf\"],shell=True)\n",
    "# Save the new PDF to disk\n",
    "with open(\"Manipulated PDFs/Pages_split_odd_pages.pdf\", \"wb\") as f:\n",
    "    pdf_writer_odd.write(f)\n",
    "# Opens PDF\n",
    "subprocess.Popen([\"Manipulated PDFs/Pages_split_odd_pages.pdf.pdf\"],shell=True)"
   ],
   "metadata": {
    "collapsed": false,
    "ExecuteTime": {
     "end_time": "2024-01-18T02:49:32.908545400Z",
     "start_time": "2024-01-18T02:49:32.856343Z"
    }
   },
   "id": "baf321c59236b3b",
   "execution_count": 11
  },
  {
   "cell_type": "markdown",
   "source": [
    "### Merging PDFs"
   ],
   "metadata": {
    "collapsed": false
   },
   "id": "ae191abb4454bc16"
  },
  {
   "cell_type": "code",
   "outputs": [
    {
     "data": {
      "text/plain": "<Popen: returncode: None args: ['Manipulated PDFs/merged_pdf.pdf']>"
     },
     "execution_count": 12,
     "metadata": {},
     "output_type": "execute_result"
    }
   ],
   "source": [
    "pdf_reader_camera = PdfReader(\"docs/camera.pdf\")\n",
    "pdf_reader_workstation = PdfReader(\"docs/WorkStation.pdf\")\n",
    "pdf_reader_pages = PdfReader(\"docs/Pages.pdf\")\n",
    "\n",
    "# Writer object\n",
    "pdf_writer_merged = PdfWriter()\n",
    "\n",
    "# Merge PDFs\n",
    "for pdf in [pdf_reader_camera , pdf_reader_workstation, pdf_reader_pages]:\n",
    "    pdf_writer_merged.append(pdf)\n",
    "# Save the new PDF to disk\n",
    "with open(\"Manipulated PDFs/merged_pdf.pdf\", \"wb\") as f:\n",
    "    pdf_writer_merged.write(f)\n",
    "# Opens PDF\n",
    "subprocess.Popen([\"Manipulated PDFs/merged_pdf.pdf\"],shell=True)"
   ],
   "metadata": {
    "collapsed": false,
    "ExecuteTime": {
     "end_time": "2024-01-18T02:49:32.988322100Z",
     "start_time": "2024-01-18T02:49:32.895102500Z"
    }
   },
   "id": "393ffe5e9bf57c6d",
   "execution_count": 12
  },
  {
   "cell_type": "markdown",
   "source": [
    "### PDF Boxes\n",
    "\n",
    "See [The PDF page boxes](https://www.prepressure.com/pdf/basics/page-boxes)\n",
    "\n",
    "- **Media Box:** The MediaBox is used to specify the width and height of the page. Actual page size.\n",
    "- **The BleedBox:** determines the region to which the page contents needs to be clipped when output in a production environment. Usually the BleedBox is 3 to 5 millimeters larger than the trimbox.\n",
    "- **The TrimBox:** defines the intended dimensions of the finished page. Contrary to the cropbox, the trimbox is very important because it defines the actual page size that gets printed. \n",
    "- **The CropBox:** defines the region that the PDF viewer application is expected to display or print. (The visible area of the page when you open the PDF)\n",
    "- **The ArtBox** is a bit of a special case. It was originally added to indicate the area covered by the artwork of the page.\n",
    "\n",
    "**Note:** Only the Media Box is required all the other ones are options\n",
    "\n",
    "<p></p>\n",
    "<img src=\"pics/PDF boxes.png\" alt=\"PDF boxes\"  width=\"400\" height=\"500\"/>"
   ],
   "metadata": {
    "collapsed": false
   },
   "id": "c714164032828cc6"
  },
  {
   "cell_type": "markdown",
   "source": [
    "###### Display Boxes Boundaries Functions"
   ],
   "metadata": {
    "collapsed": false
   },
   "id": "8228390d11a9ef4a"
  },
  {
   "cell_type": "code",
   "outputs": [],
   "source": [
    "def print_page_media_box_boundaries(p):\n",
    "    \n",
    "    print(\"Media box:\")\n",
    "    print(\"upper_right XY\", page.mediabox.right, page.mediabox.top)\n",
    "    print(\"upper_left XY\", page.mediabox.left, page.mediabox.top)\n",
    "    print(\"LowerRight XY\", page.mediabox.right, page.mediabox.bottom)\n",
    "    print(\"LowerLeft XY\", page.mediabox.left, page.mediabox.bottom)\n",
    "    print()  \n",
    "    \n",
    "def print_page_crop_box_boundaries(p):\n",
    "    try:\n",
    "        print(\"Crop box:\")\n",
    "        print(\"upper_right XY\", page.cropbox.right, page.cropbox.top)\n",
    "        print(\"upper_left XY\", page.cropbox.left, page.cropbox.top)\n",
    "        print(\"LowerRight XY\", page.cropbox.right, page.cropbox.bottom)\n",
    "        print(\"LowerLeft XY\", page.cropbox.left, page.cropbox.bottom)\n",
    "        print()\n",
    "    except AttributeError:\n",
    "        print(\"No Crop box defined\")\n",
    "        print()\n",
    "    \n",
    "def print_page_bleed_box_boundaries(p):\n",
    "    try:\n",
    "        print(\"Bleed box:\")\n",
    "        print(\"upper_right XY\", page.bleedbox.right, page.bleedbox.top)\n",
    "        print(\"upper_left XY\", page.bleedbox.left, page.bleedbox.top)\n",
    "        print(\"LowerRight XY\", page.bleedbox.right, page.bleedbox.bottom)\n",
    "        print(\"LowerLeft XY\", page.bleedbox.left, page.bleedbox.bottom)\n",
    "        print()\n",
    "    except AttributeError:\n",
    "        print(\"No Bleed box defined\")\n",
    "        print()\n",
    "    \n",
    "def print_page_trim_box_boundaries(p):\n",
    "    try:\n",
    "        print(\"Trim box:\")\n",
    "        print(\"upper_right XY\", page.trimbox.right, page.trimbox.top)\n",
    "        print(\"upper_left XY\", page.trimbox.left, page.trimbox.top)\n",
    "        print(\"LowerRight XY\", page.trimbox.right, page.trimbox.bottom)\n",
    "        print(\"LowerLeft XY\", page.trimbox.left, page.trimbox.bottom)\n",
    "        print()\n",
    "    except AttributeError:\n",
    "        print(\"No Trim box defined\")\n",
    "        print()\n",
    "    \n",
    "def print_page_art_box_boundaries(p):\n",
    "    try:\n",
    "        print(\"Art box:\")\n",
    "        print(\"upper_right XY\", page.artbox.right, page.artbox.top)\n",
    "        print(\"upper_left XY\", page.artbox.left, page.artbox.top)\n",
    "        print(\"LowerRight XY\", page.artbox.right, page.artbox.bottom)\n",
    "        print(\"LowerLeft XY\", page.artbox.left, page.artbox.bottom)\n",
    "        print()\n",
    "    except AttributeError:\n",
    "        print(\"No Art box defined\")\n",
    "        print()"
   ],
   "metadata": {
    "collapsed": false,
    "ExecuteTime": {
     "end_time": "2024-01-18T02:49:32.989318500Z",
     "start_time": "2024-01-18T02:49:32.937351700Z"
    }
   },
   "id": "341af4ccf09aec9e",
   "execution_count": 13
  },
  {
   "cell_type": "markdown",
   "source": [
    "#### Format page from A5 to A5"
   ],
   "metadata": {
    "collapsed": false
   },
   "id": "792874a9a63b2db6"
  },
  {
   "cell_type": "code",
   "outputs": [
    {
     "name": "stdout",
     "output_type": "stream",
     "text": [
      "Media box:\n",
      "upper_right XY 595.27576 841.89001\n",
      "upper_left XY 0.0 841.89001\n",
      "LowerRight XY 595.27576 0.0\n",
      "LowerLeft XY 0.0 0.0\n",
      "\n",
      "Crop box:\n",
      "upper_right XY 595.27576 841.89001\n",
      "upper_left XY 0.0 841.89001\n",
      "LowerRight XY 595.27576 0.0\n",
      "LowerLeft XY 0.0 0.0\n",
      "\n",
      "Bleed box:\n",
      "upper_right XY 595.27576 841.89001\n",
      "upper_left XY 0.0 841.89001\n",
      "LowerRight XY 595.27576 0.0\n",
      "LowerLeft XY 0.0 0.0\n",
      "\n",
      "Trim box:\n",
      "upper_right XY 595.27576 841.89001\n",
      "upper_left XY 0.0 841.89001\n",
      "LowerRight XY 595.27576 0.0\n",
      "LowerLeft XY 0.0 0.0\n",
      "\n",
      "Art box:\n",
      "upper_right XY 595.27576 841.89001\n",
      "upper_left XY 0.0 841.89001\n",
      "LowerRight XY 595.27576 0.0\n",
      "LowerLeft XY 0.0 0.0\n",
      "\n",
      "********************\n",
      "Media box:\n",
      "upper_right XY 419.53 595.28\n",
      "upper_left XY 0.0 595.28\n",
      "LowerRight XY 419.53 0.0\n",
      "LowerLeft XY 0.0 0.0\n",
      "\n",
      "Crop box:\n",
      "upper_right XY 369.53 545.28\n",
      "upper_left XY 50 545.28\n",
      "LowerRight XY 369.53 50\n",
      "LowerLeft XY 50 50\n",
      "\n",
      "Trim box:\n",
      "upper_right XY 595.27576 841.89001\n",
      "upper_left XY 0.0 841.89001\n",
      "LowerRight XY 595.27576 0.0\n",
      "LowerLeft XY 0.0 0.0\n"
     ]
    },
    {
     "data": {
      "text/plain": "<Popen: returncode: None args: ['Manipulated PDFs/camera_A4_to_A5.pdf']>"
     },
     "execution_count": 14,
     "metadata": {},
     "output_type": "execute_result"
    }
   ],
   "source": [
    "# Load the pdf to the PdfReader object with default settings\n",
    "pdf_reader = PdfReader(\"docs/camera.pdf\")\n",
    "\n",
    "# Writer object\n",
    "pdf_writer = PdfWriter()\n",
    "      \n",
    "page = pdf_reader.pages[0]\n",
    "print_page_media_box_boundaries(page)\n",
    "print_page_crop_box_boundaries(page)\n",
    "print_page_bleed_box_boundaries(page)\n",
    "print_page_trim_box_boundaries(page)\n",
    "print_page_art_box_boundaries(page)\n",
    "\n",
    "# Change crop box dimensions\n",
    "# X, Y\n",
    "old_left_x = page.mediabox.left\n",
    "old_right_x = page.mediabox.right\n",
    "old_lower_y = page.mediabox.bottom\n",
    "old_upper_y = page.mediabox.top\n",
    "\n",
    "\n",
    "#Camera pdf is A4 size = 210x297mm\n",
    "# Default units are points or pt\n",
    "# 1 pt = 1/72 inch\n",
    "# 1 pt = 0.0352778 cm = 0.352778mm\n",
    "#A5 size = 148x210mm\n",
    "#A5 size = 148/0.352778 x 210/0.352778\n",
    "#RectangleObject(rect_x0, rect_y0, rect_x0, rect_y0)\n",
    "#RectangleObject([old_left_x, old_lower_y, old_right_x, old_upper_y])\n",
    "pt_mm = 0.352778\n",
    "\n",
    "\"\"\"\n",
    "X = 0 from left\n",
    "Y = 0 from bottom\n",
    "upper_left                             upper_right\n",
    "left, top_____________________________ right, top\n",
    "|                                              |\n",
    "|                                              |\n",
    "|                                              |\n",
    "|                                              |\n",
    "left, bottom________________________right, bottom\n",
    "lower_left                             lower_right\n",
    "\"\"\"\n",
    "\n",
    "# scale the page before changing mediabox size\n",
    "from math import sqrt\n",
    "page.add_transformation( (sqrt(0.5),0,0,sqrt(0.5),0,0) ) # A4 to A5 scale factor 71% or square root of 0.5\n",
    "#     \n",
    "upper_y = round(210.0/pt_mm,2)\n",
    "right_x = round(148.0/pt_mm,2)\n",
    "page.mediabox.upper_left = (old_left_x, upper_y)\n",
    "page.mediabox.upper_right = (right_x, upper_y)\n",
    "page.mediabox.lower_left = (old_left_x , old_lower_y)\n",
    "page.mediabox.lower_right = (right_x , old_lower_y)\n",
    "\n",
    "crop = 50\n",
    "page.cropbox.upper_left = (old_left_x+crop, upper_y-crop)\n",
    "page.cropbox.upper_right = (right_x-crop, upper_y-crop)\n",
    "page.cropbox.lower_left = (old_left_x+crop , old_lower_y+crop)\n",
    "page.cropbox.lower_right = (right_x-crop , old_lower_y+crop)        \n",
    "\n",
    "pdf_writer.add_page(page)\n",
    "        \n",
    "print(\"*\"*20)\n",
    "print_page_media_box_boundaries(page)\n",
    "print_page_crop_box_boundaries(page)\n",
    "print_page_trim_box_boundaries(page)\n",
    "\n",
    "with open(\"Manipulated PDFs/camera_A4_to_A5.pdf\", \"wb\") as out_f:\n",
    "    pdf_writer.write(out_f)\n",
    "# Opens PDF\n",
    "subprocess.Popen([\"Manipulated PDFs/camera_A4_to_A5.pdf\"],shell=True)"
   ],
   "metadata": {
    "collapsed": false,
    "ExecuteTime": {
     "end_time": "2024-01-18T02:49:33.105278700Z",
     "start_time": "2024-01-18T02:49:32.941847400Z"
    }
   },
   "id": "53ed4b974f3fb747",
   "execution_count": 14
  },
  {
   "cell_type": "markdown",
   "source": [
    "### Cropping Pages"
   ],
   "metadata": {
    "collapsed": false
   },
   "id": "b2d452ac77e200ef"
  },
  {
   "cell_type": "code",
   "outputs": [
    {
     "name": "stdout",
     "output_type": "stream",
     "text": [
      "Media box\n",
      "UpperRight XY 612 792\n",
      "UpperLeft XY 0 792\n",
      "LowerRight XY 612 0\n",
      "LowerLeft XY 0 0\n",
      "\n",
      "Crop box\n",
      "UpperRight XY 612 792\n",
      "UpperLeft XY 0 792\n",
      "LowerRight XY 612 0\n",
      "LowerLeft XY 0 0\n",
      "\n",
      "Media box after\n",
      "UpperRight XY 612 792\n",
      "UpperLeft XY 0 792\n",
      "LowerRight XY 612 0\n",
      "LowerLeft XY 0 0\n",
      "\n",
      "Crop box after\n",
      "UpperRight XY 595.276 741.89\n",
      "UpperLeft XY 100 741.89\n",
      "LowerRight XY 595.276 0.0\n",
      "LowerLeft XY 0.0 0.0\n"
     ]
    },
    {
     "data": {
      "text/plain": "<Popen: returncode: None args: ['Manipulated PDFs/p17_cropped.pdf']>"
     },
     "execution_count": 15,
     "metadata": {},
     "output_type": "execute_result"
    }
   ],
   "source": [
    "pdf_reader = PdfReader(\"docs/p17.pdf\")\n",
    "# Writer object\n",
    "pdf_writer = PdfWriter()\n",
    "\n",
    "page = pdf_reader.pages[0]\n",
    "print(\"Media box\")\n",
    "print(\"UpperRight XY\", page.mediabox.right, page.mediabox.top)\n",
    "print(\"UpperLeft XY\", page.mediabox.left, page.mediabox.top)\n",
    "print(\"LowerRight XY\", page.mediabox.right, page.mediabox.bottom)\n",
    "print(\"LowerLeft XY\", page.mediabox.bottom, page.mediabox.bottom)\n",
    "print()\n",
    "\n",
    "print(\"Crop box\")\n",
    "print(\"UpperRight XY\", page.cropbox.right, page.cropbox.top)\n",
    "print(\"UpperLeft XY\", page.cropbox.left, page.cropbox.top)\n",
    "print(\"LowerRight XY\", page.cropbox.right, page.cropbox.bottom)\n",
    "print(\"LowerLeft XY\", page.cropbox.bottom, page.cropbox.bottom)\n",
    "print()\n",
    "\n",
    "# Crop permanently 100 points from the left side and 100 points from the top\n",
    "#page.mediabox.lowerLeft = (100, 0)\n",
    "#page.mediabox.upperRight = (595.276, 741.89)\n",
    "\n",
    "# Crop 100 points from the left side and 100 points from the top\n",
    "page.cropbox.lower_left = (100, 0)\n",
    "page.cropbox.upper_right = (595.276, 741.89)\n",
    "\n",
    "pdf_writer.add_page(page)\n",
    "\n",
    "print(\"Media box after\")\n",
    "print(\"UpperRight XY\", page.mediabox.right, page.mediabox.top)\n",
    "print(\"UpperLeft XY\", page.mediabox.left, page.mediabox.top)\n",
    "print(\"LowerRight XY\", page.mediabox.right, page.mediabox.bottom)\n",
    "print(\"LowerLeft XY\", page.mediabox.bottom, page.mediabox.bottom)\n",
    "print()\n",
    "\n",
    "print(\"Crop box after\")\n",
    "print(\"UpperRight XY\", page.cropbox.right, page.cropbox.top)\n",
    "print(\"UpperLeft XY\", page.cropbox.left, page.cropbox.top)\n",
    "print(\"LowerRight XY\", page.cropbox.right, page.cropbox.bottom)\n",
    "print(\"LowerLeft XY\", page.cropbox.bottom, page.cropbox.bottom)\n",
    "print()\n",
    "\n",
    "# saves PDF\n",
    "with open(\"Manipulated PDFs/p17_cropped.pdf\", \"wb\") as out_f:\n",
    "    pdf_writer.write(out_f)\n",
    "# Opens PDF\n",
    "subprocess.Popen([\"Manipulated PDFs/p17_cropped.pdf\"],shell=True)"
   ],
   "metadata": {
    "collapsed": false,
    "ExecuteTime": {
     "end_time": "2024-01-18T02:49:33.321000400Z",
     "start_time": "2024-01-18T02:49:33.035248100Z"
    }
   },
   "id": "c2be6e1be1c6e79b",
   "execution_count": 15
  },
  {
   "cell_type": "markdown",
   "source": [
    "### Clipping  - Merge Pages\n",
    "Removing part of a page by overlaying a picture over the session to clip using the merge page method."
   ],
   "metadata": {
    "collapsed": false
   },
   "id": "a86f876419ce2c68"
  },
  {
   "cell_type": "code",
   "outputs": [
    {
     "data": {
      "text/plain": "<Popen: returncode: None args: ['Manipulated PDFs/clipped_camera.pdf']>"
     },
     "execution_count": 16,
     "metadata": {},
     "output_type": "execute_result"
    }
   ],
   "source": [
    "# Load the pdf to the PdfReader object with default settings\n",
    "pdf_reader = PdfReader(\"docs/camera.pdf\")\n",
    "pdf_overlay = PdfReader(\"docs/overlay_white.pdf\")\n",
    "# Writer object\n",
    "pdf_writer = PdfWriter()\n",
    "\n",
    "page = pdf_reader.pages[0]\n",
    "overlay_page = pdf_overlay.pages[0]\n",
    "\n",
    "# page1.merge_page(page2: PageObject, expand: bool = False, over: bool = True)→ None\n",
    "# expand page2 to page1 size set to default False and overlay page2 on top of page1 is set to default True\n",
    "page.merge_page(overlay_page)\n",
    "pdf_writer.add_page(page)\n",
    "\n",
    "# saves PDF\n",
    "with open(\"Manipulated PDFs/clipped_camera.pdf\", \"wb\") as out_f:\n",
    "    pdf_writer.write(out_f)\n",
    "# Opens PDF\n",
    "subprocess.Popen([\"Manipulated PDFs/clipped_camera.pdf\"],shell=True)"
   ],
   "metadata": {
    "collapsed": false,
    "ExecuteTime": {
     "end_time": "2024-01-18T02:49:33.380197200Z",
     "start_time": "2024-01-18T02:49:33.320003800Z"
    }
   },
   "id": "a715167112c07550",
   "execution_count": 16
  },
  {
   "cell_type": "markdown",
   "source": [
    "### Water Marking\n",
    "Similar to clipping, overlaying a page over the watermark text using the merge page method."
   ],
   "metadata": {
    "collapsed": false
   },
   "id": "bbb1f0432b09f030"
  },
  {
   "cell_type": "code",
   "outputs": [
    {
     "data": {
      "text/plain": "<Popen: returncode: None args: ['Manipulated PDFs/p17_watermarked.pdf']>"
     },
     "execution_count": 17,
     "metadata": {},
     "output_type": "execute_result"
    }
   ],
   "source": [
    "# Load the pdf to the PdfReader object with default settings\n",
    "pdf_reader = PdfReader(\"docs/p17.pdf\")\n",
    "pdf_watermark_reader = PdfReader(\"docs/watermark_date.pdf\")\n",
    "# Writer object\n",
    "pdf_writer = PdfWriter()\n",
    "\n",
    "# page1.merge_page(page2: PageObject, expand: bool = False, over: bool = True)→ None\n",
    "# expand page2 to page1 size set to default False and overlay page2 on top of page1 is set to default True\n",
    "page_watermark = pdf_watermark_reader.pages[0]\n",
    "for page in pdf_reader.pages:\n",
    "    page.merge_page(page_watermark, True, False)\n",
    "    pdf_writer.add_page(page)\n",
    "\n",
    "# saves PDF\n",
    "with open(\"Manipulated PDFs/p17_watermarked.pdf\", \"wb\") as out_f:\n",
    "    pdf_writer.write(out_f)\n",
    "# Opens PDF\n",
    "subprocess.Popen([\"Manipulated PDFs/p17_watermarked.pdf\"],shell=True)"
   ],
   "metadata": {
    "collapsed": false,
    "ExecuteTime": {
     "end_time": "2024-01-18T02:49:40.606664Z",
     "start_time": "2024-01-18T02:49:33.347798200Z"
    }
   },
   "id": "9088255f724c2ff1",
   "execution_count": 17
  },
  {
   "cell_type": "markdown",
   "source": [
    "### Read PDF From Memory"
   ],
   "metadata": {
    "collapsed": false
   },
   "id": "f926f6c9d86d3673"
  },
  {
   "cell_type": "code",
   "outputs": [],
   "source": [
    "# https://www.digitalocean.com/community/tutorials/python-io-bytesio-stringio\n",
    "from io import BytesIO # https://docs.python.org/3/library/io.html"
   ],
   "metadata": {
    "collapsed": false,
    "ExecuteTime": {
     "end_time": "2024-01-18T02:49:40.609504200Z",
     "start_time": "2024-01-18T02:49:40.606664Z"
    }
   },
   "id": "1577dbf895b25e14",
   "execution_count": 18
  },
  {
   "cell_type": "code",
   "outputs": [
    {
     "data": {
      "text/plain": "<Popen: returncode: None args: 'Manipulated PDFs/p17_in_memory.pdf'>"
     },
     "execution_count": 19,
     "metadata": {},
     "output_type": "execute_result"
    }
   ],
   "source": [
    "# Load the pdf to the PdfReader object with default settings\n",
    "pdf_reader = PdfReader(\"docs/p17.pdf\")\n",
    "# Writer object\n",
    "pdf_writer = PdfWriter()\n",
    "pdf_writer_memory = PdfWriter()\n",
    "\n",
    "pdf_in_memory = BytesIO()\n",
    "\n",
    "# Adds all reader pages to writer\n",
    "pdf_writer.append_pages_from_reader(pdf_reader)\n",
    "\n",
    "# Write the object pdf_writer into a memory variable\n",
    "pdf_writer.write(pdf_in_memory)\n",
    "\n",
    "\n",
    "# Loads the pdf in memory to a reader object\n",
    "pdf_reader_memory = PdfReader(pdf_in_memory)\n",
    "# Copy the reader document root to the writer and all sub elements, including pages, threads, outlines.\n",
    "pdf_writer_memory.clone_reader_document_root(pdf_reader_memory)\n",
    "\n",
    "# saves PDF\n",
    "with open(\"Manipulated PDFs/p17_in_memory.pdf\", \"wb\") as out_f:\n",
    "    pdf_writer_memory.write(out_f)\n",
    "# Opens PDF\n",
    "subprocess.Popen(\"Manipulated PDFs/p17_in_memory.pdf\" ,shell=True)\n",
    "    "
   ],
   "metadata": {
    "collapsed": false,
    "ExecuteTime": {
     "end_time": "2024-01-18T02:49:45.573629700Z",
     "start_time": "2024-01-18T02:49:40.610500300Z"
    }
   },
   "id": "ff3b1807944298f8",
   "execution_count": 19
  },
  {
   "cell_type": "markdown",
   "source": [
    "#### Decreasing PDF File Size - PDF Compression"
   ],
   "metadata": {
    "collapsed": false
   },
   "id": "f5a75a51c685faa1"
  },
  {
   "cell_type": "code",
   "outputs": [],
   "source": [
    "from pathlib import Path"
   ],
   "metadata": {
    "collapsed": false,
    "ExecuteTime": {
     "end_time": "2024-01-18T02:49:45.578003Z",
     "start_time": "2024-01-18T02:49:45.575131500Z"
    }
   },
   "id": "5281bff48dcef567",
   "execution_count": 20
  },
  {
   "cell_type": "code",
   "outputs": [
    {
     "name": "stdout",
     "output_type": "stream",
     "text": [
      "File size before compression: 33.17 MB\n",
      "File size after compression: 32.01 MB\n",
      "File size decreased with 1.16 MB\n"
     ]
    }
   ],
   "source": [
    "# Load the pdf to the PdfReader object with default settings\n",
    "pdf_reader = PdfReader(\"docs/2554ci Operation Guide.pdf\")\n",
    "# Writer object\n",
    "pdf_writer = PdfWriter()\n",
    "\n",
    "file_size_before = Path(\"docs/2554ci Operation Guide.pdf\").stat().st_size / 1e+6\n",
    "print(\"File size before compression:\", round(file_size_before, 2), \"MB\")\n",
    "\n",
    "# Adds all reader pages to writer\n",
    "pdf_writer.append_pages_from_reader(pdf_reader)\n",
    "# Compress the pages\n",
    "for page in pdf_writer.pages: # Using writer pages\n",
    "    page.compress_content_streams()\n",
    "\n",
    "# saves PDF\n",
    "with open(\"Manipulated PDFs/2554ci Operation Guide.pdf\", \"wb\") as out_f:\n",
    "    pdf_writer.write(out_f)\n",
    "# Opens PDF\n",
    "subprocess.Popen([\"Manipulated PDFs/2554ci Operation Guide.pdf\"],shell=True)\n",
    "\n",
    "file_size_after = Path(\"Manipulated PDFs/2554ci Operation Guide.pdf\").stat().st_size / 1e+6\n",
    "print(\"File size after compression:\", round(file_size_after, 2), \"MB\")\n",
    "\n",
    "if file_size_after < file_size_before:\n",
    "    print(\"File size decreased with\", round(file_size_before - file_size_after, 2), \"MB\")\n"
   ],
   "metadata": {
    "collapsed": false,
    "ExecuteTime": {
     "end_time": "2024-01-18T02:49:51.218159600Z",
     "start_time": "2024-01-18T02:49:45.578999900Z"
    }
   },
   "id": "e6e8831e03c4b1e7",
   "execution_count": 21
  }
 ],
 "metadata": {
  "kernelspec": {
   "display_name": "Python 3",
   "language": "python",
   "name": "python3"
  },
  "language_info": {
   "codemirror_mode": {
    "name": "ipython",
    "version": 2
   },
   "file_extension": ".py",
   "mimetype": "text/x-python",
   "name": "python",
   "nbconvert_exporter": "python",
   "pygments_lexer": "ipython2",
   "version": "2.7.6"
  }
 },
 "nbformat": 4,
 "nbformat_minor": 5
}
